{
 "cells": [
  {
   "cell_type": "markdown",
   "metadata": {},
   "source": [
    "# Predicting Players rating"
   ]
  },
  {
   "cell_type": "markdown",
   "metadata": {},
   "source": [
    "In this project you are going to predict the overall rating of soccer player based on their attributes such as 'crossing',\n",
    "'finishing' etc. "
   ]
  },
  {
   "cell_type": "markdown",
   "metadata": {},
   "source": [
    "The dataset you are going to use is from European Soccer Database (https://www.kaggle.com/hugomathien/soccer) has more than 25000 matches and more than 10000 players for European professional soccer seasons from 2008 to 2016."
   ]
  },
  {
   "cell_type": "markdown",
   "metadata": {},
   "source": [
    "Download the data in the same floader and run the following command to get it in the environment."
   ]
  },
  {
   "cell_type": "markdown",
   "metadata": {},
   "source": [
    "About the Dataset\n",
    "\n",
    "The ultimate Soccer database for data analysis and machine learning\n",
    "\n",
    "The dataset comes in the form of an SQL database and contains statistics of about 25000 football matches, from the top football league of 11 European Countries. It covers seassons from 2008 to 2016 and contains match statistics (i.e., scores, corners, fouls etc ...)as well as the team formations, with player names and a pair of coordinates to indicate their position on the pitch. "
   ]
  },
  {
   "cell_type": "markdown",
   "metadata": {},
   "source": [
    "* +25000 matches\n",
    "* +10000 players\n",
    "* 11 European Countries with their lead championship\n",
    "* Seasons 2008 to 2016\n",
    "* Players and Teams 'attributes' sourced from EA sports' FIFA video game series, including the weekly updates.\n",
    "* Team line up with squad formation (X, Y coordinates)\n",
    "* Betting odds from up to 10 providers.\n",
    "* Detailed match events (goal types, possession, corner, cross, fouls, cards etc...) for +10000 matches."
   ]
  },
  {
   "cell_type": "markdown",
   "metadata": {},
   "source": [
    "The dataset also has a set of about 35 statistics for each player, derived from EA sports'FIFA video games. It is not just the stats that come with a new version of the game but also the weekly updates. So, for instance if a player has performed poorly over a period of time an his stats get impacted in FIFA, you would normally see the same in the dataset."
   ]
  },
  {
   "cell_type": "markdown",
   "metadata": {},
   "source": [
    "#### Python Skills required to complete this project\n",
    "###### SQL:"
   ]
  },
  {
   "cell_type": "markdown",
   "metadata": {},
   "source": [
    "The data is in SQL database so students need to retrive using query language. They also need to know how to connect\n",
    "SQL database worth python. The library we are using for this in 'sqlite3'. \n",
    "\n",
    "SQLite3 can be integrated with Python using sqlite3 module, which was written by Gerhard Haring. It provides an SQL interface compliant with the DB-API 2.0 specification described by PEP 249. You do not need to install this module \n",
    "separately because it is shipped by default along with Python version 2.5.x onwards. \n",
    "\n",
    "To use sqlite3 module, you must first create a connection object that represents the database and then optionally\n",
    "you can create a cursor object, which will help you in executing all the SQL statements. "
   ]
  },
  {
   "cell_type": "markdown",
   "metadata": {},
   "source": [
    "##### Pandas:"
   ]
  },
  {
   "cell_type": "markdown",
   "metadata": {},
   "source": [
    "Pandas is an open-source, BSD-licensed Python library providing high-performance, easy-to-use data structures and data analysis tools for the Python programming language. Python with Pandas is used in a wide range of fields including academic andcommercial domains including finance, economics, Statistics, analytics etc. In this tutorial we will learn the various features of Python Pandas and how to use them in practice. "
   ]
  },
  {
   "cell_type": "markdown",
   "metadata": {},
   "source": [
    "##### Scikit-Learn"
   ]
  },
  {
   "cell_type": "markdown",
   "metadata": {},
   "source": [
    "Scikit-learn provides a range of supervised and unsupervissed learning algorithm via a consistent interface in Python. "
   ]
  },
  {
   "cell_type": "markdown",
   "metadata": {},
   "source": [
    "The library is  built upon the SciPy (Scientific Python) that must be installed before you can use scikit-learn. This stack that includes:\n",
    "\n",
    "* NumPy: Base n-dimensional array package.\n",
    "* SciPy: Fundamental library for scientific computing. \n",
    "* Matplotlib: Comprehensive 2D/3D plotting.\n",
    "* IPython: Enhanced interactive console.\n",
    "* Sympy: Symbolic mathematics.\n",
    "* Pandas: Data structures and analysis.\n",
    "\n",
    "Extensions or modules for SciPy care conventioally named SciKits. As such, the module provides learning algorithms and is named scikit-learn."
   ]
  },
  {
   "cell_type": "markdown",
   "metadata": {},
   "source": [
    "The vision for the library is a level of robustness and support required for use in production systems. This means a deep focus on concerns such as easy of use, code quality, collaboration, documentation and performance."
   ]
  },
  {
   "cell_type": "markdown",
   "metadata": {},
   "source": [
    "### Machine Learning skills required to complete the project\n",
    "##### Supervised learning"
   ]
  },
  {
   "cell_type": "markdown",
   "metadata": {},
   "source": [
    "Supervised learning deals with learning a function from available training data. A supervised learning algorithm analyzes the training data and produces an inferred function, which can be used for mapping new examples."
   ]
  },
  {
   "cell_type": "markdown",
   "metadata": {},
   "source": [
    "##### Regression"
   ]
  },
  {
   "cell_type": "markdown",
   "metadata": {},
   "source": [
    "Regression is a parametric technique used to predict continuous (dependent) variable given a set of independent variables. It is prametric in nature because it makes certain assumptions (discussed next) based on the data set. If the data set follows those assumptions, regression gives incredible results. "
   ]
  },
  {
   "cell_type": "markdown",
   "metadata": {},
   "source": [
    "##### Model evaluation"
   ]
  },
  {
   "cell_type": "markdown",
   "metadata": {},
   "source": [
    "Student must know how to judge a model on unseen data. What metric to select to judge the performance. "
   ]
  },
  {
   "cell_type": "markdown",
   "metadata": {},
   "source": [
    "#### Let's get started...."
   ]
  },
  {
   "cell_type": "markdown",
   "metadata": {},
   "source": [
    "###### Import Libraries"
   ]
  },
  {
   "cell_type": "code",
   "execution_count": 11,
   "metadata": {},
   "outputs": [],
   "source": [
    "import sqlite3\n",
    "import pandas as pd\n",
    "import matplotlib.pyplot as plt\n",
    "import seaborn as sns\n",
    "import statsmodels.formula.api as smf\n",
    "from sklearn.tree import DecisionTreeRegressor\n",
    "from sklearn.linear_model import LinearRegression\n",
    "from sklearn.model_selection import train_test_split\n",
    "from sklearn.metrics import mean_squared_error\n",
    "from math import sqrt\n",
    "from IPython.display import display\n",
    "%matplotlib inline"
   ]
  },
  {
   "cell_type": "markdown",
   "metadata": {},
   "source": [
    "### Read Data from the Database into pandas"
   ]
  },
  {
   "cell_type": "code",
   "execution_count": 19,
   "metadata": {},
   "outputs": [],
   "source": [
    "# Create your connection.\n",
    "cnx = sqlite3.connect('database.sqlite')\n",
    "df = pd.read_sql_query(\"SELECT * FROM Player_Attributes\", cnx)"
   ]
  },
  {
   "cell_type": "code",
   "execution_count": 20,
   "metadata": {},
   "outputs": [
    {
     "data": {
      "text/html": [
       "<div>\n",
       "<style scoped>\n",
       "    .dataframe tbody tr th:only-of-type {\n",
       "        vertical-align: middle;\n",
       "    }\n",
       "\n",
       "    .dataframe tbody tr th {\n",
       "        vertical-align: top;\n",
       "    }\n",
       "\n",
       "    .dataframe thead th {\n",
       "        text-align: right;\n",
       "    }\n",
       "</style>\n",
       "<table border=\"1\" class=\"dataframe\">\n",
       "  <thead>\n",
       "    <tr style=\"text-align: right;\">\n",
       "      <th></th>\n",
       "      <th>id</th>\n",
       "      <th>player_fifa_api_id</th>\n",
       "      <th>player_api_id</th>\n",
       "      <th>date</th>\n",
       "      <th>overall_rating</th>\n",
       "      <th>potential</th>\n",
       "      <th>preferred_foot</th>\n",
       "      <th>attacking_work_rate</th>\n",
       "      <th>defensive_work_rate</th>\n",
       "      <th>crossing</th>\n",
       "      <th>...</th>\n",
       "      <th>vision</th>\n",
       "      <th>penalties</th>\n",
       "      <th>marking</th>\n",
       "      <th>standing_tackle</th>\n",
       "      <th>sliding_tackle</th>\n",
       "      <th>gk_diving</th>\n",
       "      <th>gk_handling</th>\n",
       "      <th>gk_kicking</th>\n",
       "      <th>gk_positioning</th>\n",
       "      <th>gk_reflexes</th>\n",
       "    </tr>\n",
       "  </thead>\n",
       "  <tbody>\n",
       "    <tr>\n",
       "      <th>0</th>\n",
       "      <td>1</td>\n",
       "      <td>218353</td>\n",
       "      <td>505942</td>\n",
       "      <td>2016-02-18 00:00:00</td>\n",
       "      <td>67.0</td>\n",
       "      <td>71.0</td>\n",
       "      <td>right</td>\n",
       "      <td>medium</td>\n",
       "      <td>medium</td>\n",
       "      <td>49.0</td>\n",
       "      <td>...</td>\n",
       "      <td>54.0</td>\n",
       "      <td>48.0</td>\n",
       "      <td>65.0</td>\n",
       "      <td>69.0</td>\n",
       "      <td>69.0</td>\n",
       "      <td>6.0</td>\n",
       "      <td>11.0</td>\n",
       "      <td>10.0</td>\n",
       "      <td>8.0</td>\n",
       "      <td>8.0</td>\n",
       "    </tr>\n",
       "    <tr>\n",
       "      <th>1</th>\n",
       "      <td>2</td>\n",
       "      <td>218353</td>\n",
       "      <td>505942</td>\n",
       "      <td>2015-11-19 00:00:00</td>\n",
       "      <td>67.0</td>\n",
       "      <td>71.0</td>\n",
       "      <td>right</td>\n",
       "      <td>medium</td>\n",
       "      <td>medium</td>\n",
       "      <td>49.0</td>\n",
       "      <td>...</td>\n",
       "      <td>54.0</td>\n",
       "      <td>48.0</td>\n",
       "      <td>65.0</td>\n",
       "      <td>69.0</td>\n",
       "      <td>69.0</td>\n",
       "      <td>6.0</td>\n",
       "      <td>11.0</td>\n",
       "      <td>10.0</td>\n",
       "      <td>8.0</td>\n",
       "      <td>8.0</td>\n",
       "    </tr>\n",
       "    <tr>\n",
       "      <th>2</th>\n",
       "      <td>3</td>\n",
       "      <td>218353</td>\n",
       "      <td>505942</td>\n",
       "      <td>2015-09-21 00:00:00</td>\n",
       "      <td>62.0</td>\n",
       "      <td>66.0</td>\n",
       "      <td>right</td>\n",
       "      <td>medium</td>\n",
       "      <td>medium</td>\n",
       "      <td>49.0</td>\n",
       "      <td>...</td>\n",
       "      <td>54.0</td>\n",
       "      <td>48.0</td>\n",
       "      <td>65.0</td>\n",
       "      <td>66.0</td>\n",
       "      <td>69.0</td>\n",
       "      <td>6.0</td>\n",
       "      <td>11.0</td>\n",
       "      <td>10.0</td>\n",
       "      <td>8.0</td>\n",
       "      <td>8.0</td>\n",
       "    </tr>\n",
       "    <tr>\n",
       "      <th>3</th>\n",
       "      <td>4</td>\n",
       "      <td>218353</td>\n",
       "      <td>505942</td>\n",
       "      <td>2015-03-20 00:00:00</td>\n",
       "      <td>61.0</td>\n",
       "      <td>65.0</td>\n",
       "      <td>right</td>\n",
       "      <td>medium</td>\n",
       "      <td>medium</td>\n",
       "      <td>48.0</td>\n",
       "      <td>...</td>\n",
       "      <td>53.0</td>\n",
       "      <td>47.0</td>\n",
       "      <td>62.0</td>\n",
       "      <td>63.0</td>\n",
       "      <td>66.0</td>\n",
       "      <td>5.0</td>\n",
       "      <td>10.0</td>\n",
       "      <td>9.0</td>\n",
       "      <td>7.0</td>\n",
       "      <td>7.0</td>\n",
       "    </tr>\n",
       "    <tr>\n",
       "      <th>4</th>\n",
       "      <td>5</td>\n",
       "      <td>218353</td>\n",
       "      <td>505942</td>\n",
       "      <td>2007-02-22 00:00:00</td>\n",
       "      <td>61.0</td>\n",
       "      <td>65.0</td>\n",
       "      <td>right</td>\n",
       "      <td>medium</td>\n",
       "      <td>medium</td>\n",
       "      <td>48.0</td>\n",
       "      <td>...</td>\n",
       "      <td>53.0</td>\n",
       "      <td>47.0</td>\n",
       "      <td>62.0</td>\n",
       "      <td>63.0</td>\n",
       "      <td>66.0</td>\n",
       "      <td>5.0</td>\n",
       "      <td>10.0</td>\n",
       "      <td>9.0</td>\n",
       "      <td>7.0</td>\n",
       "      <td>7.0</td>\n",
       "    </tr>\n",
       "  </tbody>\n",
       "</table>\n",
       "<p>5 rows × 42 columns</p>\n",
       "</div>"
      ],
      "text/plain": [
       "   id  player_fifa_api_id  player_api_id                 date  overall_rating  \\\n",
       "0   1              218353         505942  2016-02-18 00:00:00            67.0   \n",
       "1   2              218353         505942  2015-11-19 00:00:00            67.0   \n",
       "2   3              218353         505942  2015-09-21 00:00:00            62.0   \n",
       "3   4              218353         505942  2015-03-20 00:00:00            61.0   \n",
       "4   5              218353         505942  2007-02-22 00:00:00            61.0   \n",
       "\n",
       "   potential preferred_foot attacking_work_rate defensive_work_rate  crossing  \\\n",
       "0       71.0          right              medium              medium      49.0   \n",
       "1       71.0          right              medium              medium      49.0   \n",
       "2       66.0          right              medium              medium      49.0   \n",
       "3       65.0          right              medium              medium      48.0   \n",
       "4       65.0          right              medium              medium      48.0   \n",
       "\n",
       "   ...  vision  penalties  marking  standing_tackle  sliding_tackle  \\\n",
       "0  ...    54.0       48.0     65.0             69.0            69.0   \n",
       "1  ...    54.0       48.0     65.0             69.0            69.0   \n",
       "2  ...    54.0       48.0     65.0             66.0            69.0   \n",
       "3  ...    53.0       47.0     62.0             63.0            66.0   \n",
       "4  ...    53.0       47.0     62.0             63.0            66.0   \n",
       "\n",
       "   gk_diving  gk_handling  gk_kicking  gk_positioning  gk_reflexes  \n",
       "0        6.0         11.0        10.0             8.0          8.0  \n",
       "1        6.0         11.0        10.0             8.0          8.0  \n",
       "2        6.0         11.0        10.0             8.0          8.0  \n",
       "3        5.0         10.0         9.0             7.0          7.0  \n",
       "4        5.0         10.0         9.0             7.0          7.0  \n",
       "\n",
       "[5 rows x 42 columns]"
      ]
     },
     "execution_count": 20,
     "metadata": {},
     "output_type": "execute_result"
    }
   ],
   "source": [
    "df.head()"
   ]
  },
  {
   "cell_type": "code",
   "execution_count": 21,
   "metadata": {},
   "outputs": [
    {
     "data": {
      "text/html": [
       "<div>\n",
       "<style scoped>\n",
       "    .dataframe tbody tr th:only-of-type {\n",
       "        vertical-align: middle;\n",
       "    }\n",
       "\n",
       "    .dataframe tbody tr th {\n",
       "        vertical-align: top;\n",
       "    }\n",
       "\n",
       "    .dataframe thead th {\n",
       "        text-align: right;\n",
       "    }\n",
       "</style>\n",
       "<table border=\"1\" class=\"dataframe\">\n",
       "  <thead>\n",
       "    <tr style=\"text-align: right;\">\n",
       "      <th></th>\n",
       "      <th>player_fifa_api_id</th>\n",
       "      <th>player_api_id</th>\n",
       "      <th>date</th>\n",
       "      <th>overall_rating</th>\n",
       "      <th>potential</th>\n",
       "      <th>preferred_foot</th>\n",
       "      <th>attacking_work_rate</th>\n",
       "      <th>defensive_work_rate</th>\n",
       "      <th>crossing</th>\n",
       "      <th>finishing</th>\n",
       "      <th>heading_accuracy</th>\n",
       "      <th>short_passing</th>\n",
       "      <th>volleys</th>\n",
       "      <th>dribbling</th>\n",
       "      <th>curve</th>\n",
       "      <th>free_kick_accuracy</th>\n",
       "      <th>long_passing</th>\n",
       "      <th>ball_control</th>\n",
       "      <th>acceleration</th>\n",
       "      <th>sprint_speed</th>\n",
       "      <th>agility</th>\n",
       "      <th>reactions</th>\n",
       "      <th>balance</th>\n",
       "      <th>shot_power</th>\n",
       "      <th>jumping</th>\n",
       "      <th>stamina</th>\n",
       "      <th>strength</th>\n",
       "      <th>long_shots</th>\n",
       "      <th>aggression</th>\n",
       "      <th>interceptions</th>\n",
       "      <th>positioning</th>\n",
       "      <th>vision</th>\n",
       "      <th>penalties</th>\n",
       "      <th>marking</th>\n",
       "      <th>standing_tackle</th>\n",
       "      <th>sliding_tackle</th>\n",
       "      <th>gk_diving</th>\n",
       "      <th>gk_handling</th>\n",
       "      <th>gk_kicking</th>\n",
       "      <th>gk_positioning</th>\n",
       "      <th>gk_reflexes</th>\n",
       "    </tr>\n",
       "    <tr>\n",
       "      <th>id</th>\n",
       "      <th></th>\n",
       "      <th></th>\n",
       "      <th></th>\n",
       "      <th></th>\n",
       "      <th></th>\n",
       "      <th></th>\n",
       "      <th></th>\n",
       "      <th></th>\n",
       "      <th></th>\n",
       "      <th></th>\n",
       "      <th></th>\n",
       "      <th></th>\n",
       "      <th></th>\n",
       "      <th></th>\n",
       "      <th></th>\n",
       "      <th></th>\n",
       "      <th></th>\n",
       "      <th></th>\n",
       "      <th></th>\n",
       "      <th></th>\n",
       "      <th></th>\n",
       "      <th></th>\n",
       "      <th></th>\n",
       "      <th></th>\n",
       "      <th></th>\n",
       "      <th></th>\n",
       "      <th></th>\n",
       "      <th></th>\n",
       "      <th></th>\n",
       "      <th></th>\n",
       "      <th></th>\n",
       "      <th></th>\n",
       "      <th></th>\n",
       "      <th></th>\n",
       "      <th></th>\n",
       "      <th></th>\n",
       "      <th></th>\n",
       "      <th></th>\n",
       "      <th></th>\n",
       "      <th></th>\n",
       "      <th></th>\n",
       "    </tr>\n",
       "  </thead>\n",
       "  <tbody>\n",
       "    <tr>\n",
       "      <th>1</th>\n",
       "      <td>218353</td>\n",
       "      <td>505942</td>\n",
       "      <td>2016-02-18 00:00:00</td>\n",
       "      <td>67.0</td>\n",
       "      <td>71.0</td>\n",
       "      <td>right</td>\n",
       "      <td>medium</td>\n",
       "      <td>medium</td>\n",
       "      <td>49.0</td>\n",
       "      <td>44.0</td>\n",
       "      <td>71.0</td>\n",
       "      <td>61.0</td>\n",
       "      <td>44.0</td>\n",
       "      <td>51.0</td>\n",
       "      <td>45.0</td>\n",
       "      <td>39.0</td>\n",
       "      <td>64.0</td>\n",
       "      <td>49.0</td>\n",
       "      <td>60.0</td>\n",
       "      <td>64.0</td>\n",
       "      <td>59.0</td>\n",
       "      <td>47.0</td>\n",
       "      <td>65.0</td>\n",
       "      <td>55.0</td>\n",
       "      <td>58.0</td>\n",
       "      <td>54.0</td>\n",
       "      <td>76.0</td>\n",
       "      <td>35.0</td>\n",
       "      <td>71.0</td>\n",
       "      <td>70.0</td>\n",
       "      <td>45.0</td>\n",
       "      <td>54.0</td>\n",
       "      <td>48.0</td>\n",
       "      <td>65.0</td>\n",
       "      <td>69.0</td>\n",
       "      <td>69.0</td>\n",
       "      <td>6.0</td>\n",
       "      <td>11.0</td>\n",
       "      <td>10.0</td>\n",
       "      <td>8.0</td>\n",
       "      <td>8.0</td>\n",
       "    </tr>\n",
       "    <tr>\n",
       "      <th>2</th>\n",
       "      <td>218353</td>\n",
       "      <td>505942</td>\n",
       "      <td>2015-11-19 00:00:00</td>\n",
       "      <td>67.0</td>\n",
       "      <td>71.0</td>\n",
       "      <td>right</td>\n",
       "      <td>medium</td>\n",
       "      <td>medium</td>\n",
       "      <td>49.0</td>\n",
       "      <td>44.0</td>\n",
       "      <td>71.0</td>\n",
       "      <td>61.0</td>\n",
       "      <td>44.0</td>\n",
       "      <td>51.0</td>\n",
       "      <td>45.0</td>\n",
       "      <td>39.0</td>\n",
       "      <td>64.0</td>\n",
       "      <td>49.0</td>\n",
       "      <td>60.0</td>\n",
       "      <td>64.0</td>\n",
       "      <td>59.0</td>\n",
       "      <td>47.0</td>\n",
       "      <td>65.0</td>\n",
       "      <td>55.0</td>\n",
       "      <td>58.0</td>\n",
       "      <td>54.0</td>\n",
       "      <td>76.0</td>\n",
       "      <td>35.0</td>\n",
       "      <td>71.0</td>\n",
       "      <td>70.0</td>\n",
       "      <td>45.0</td>\n",
       "      <td>54.0</td>\n",
       "      <td>48.0</td>\n",
       "      <td>65.0</td>\n",
       "      <td>69.0</td>\n",
       "      <td>69.0</td>\n",
       "      <td>6.0</td>\n",
       "      <td>11.0</td>\n",
       "      <td>10.0</td>\n",
       "      <td>8.0</td>\n",
       "      <td>8.0</td>\n",
       "    </tr>\n",
       "    <tr>\n",
       "      <th>3</th>\n",
       "      <td>218353</td>\n",
       "      <td>505942</td>\n",
       "      <td>2015-09-21 00:00:00</td>\n",
       "      <td>62.0</td>\n",
       "      <td>66.0</td>\n",
       "      <td>right</td>\n",
       "      <td>medium</td>\n",
       "      <td>medium</td>\n",
       "      <td>49.0</td>\n",
       "      <td>44.0</td>\n",
       "      <td>71.0</td>\n",
       "      <td>61.0</td>\n",
       "      <td>44.0</td>\n",
       "      <td>51.0</td>\n",
       "      <td>45.0</td>\n",
       "      <td>39.0</td>\n",
       "      <td>64.0</td>\n",
       "      <td>49.0</td>\n",
       "      <td>60.0</td>\n",
       "      <td>64.0</td>\n",
       "      <td>59.0</td>\n",
       "      <td>47.0</td>\n",
       "      <td>65.0</td>\n",
       "      <td>55.0</td>\n",
       "      <td>58.0</td>\n",
       "      <td>54.0</td>\n",
       "      <td>76.0</td>\n",
       "      <td>35.0</td>\n",
       "      <td>63.0</td>\n",
       "      <td>41.0</td>\n",
       "      <td>45.0</td>\n",
       "      <td>54.0</td>\n",
       "      <td>48.0</td>\n",
       "      <td>65.0</td>\n",
       "      <td>66.0</td>\n",
       "      <td>69.0</td>\n",
       "      <td>6.0</td>\n",
       "      <td>11.0</td>\n",
       "      <td>10.0</td>\n",
       "      <td>8.0</td>\n",
       "      <td>8.0</td>\n",
       "    </tr>\n",
       "    <tr>\n",
       "      <th>4</th>\n",
       "      <td>218353</td>\n",
       "      <td>505942</td>\n",
       "      <td>2015-03-20 00:00:00</td>\n",
       "      <td>61.0</td>\n",
       "      <td>65.0</td>\n",
       "      <td>right</td>\n",
       "      <td>medium</td>\n",
       "      <td>medium</td>\n",
       "      <td>48.0</td>\n",
       "      <td>43.0</td>\n",
       "      <td>70.0</td>\n",
       "      <td>60.0</td>\n",
       "      <td>43.0</td>\n",
       "      <td>50.0</td>\n",
       "      <td>44.0</td>\n",
       "      <td>38.0</td>\n",
       "      <td>63.0</td>\n",
       "      <td>48.0</td>\n",
       "      <td>60.0</td>\n",
       "      <td>64.0</td>\n",
       "      <td>59.0</td>\n",
       "      <td>46.0</td>\n",
       "      <td>65.0</td>\n",
       "      <td>54.0</td>\n",
       "      <td>58.0</td>\n",
       "      <td>54.0</td>\n",
       "      <td>76.0</td>\n",
       "      <td>34.0</td>\n",
       "      <td>62.0</td>\n",
       "      <td>40.0</td>\n",
       "      <td>44.0</td>\n",
       "      <td>53.0</td>\n",
       "      <td>47.0</td>\n",
       "      <td>62.0</td>\n",
       "      <td>63.0</td>\n",
       "      <td>66.0</td>\n",
       "      <td>5.0</td>\n",
       "      <td>10.0</td>\n",
       "      <td>9.0</td>\n",
       "      <td>7.0</td>\n",
       "      <td>7.0</td>\n",
       "    </tr>\n",
       "    <tr>\n",
       "      <th>5</th>\n",
       "      <td>218353</td>\n",
       "      <td>505942</td>\n",
       "      <td>2007-02-22 00:00:00</td>\n",
       "      <td>61.0</td>\n",
       "      <td>65.0</td>\n",
       "      <td>right</td>\n",
       "      <td>medium</td>\n",
       "      <td>medium</td>\n",
       "      <td>48.0</td>\n",
       "      <td>43.0</td>\n",
       "      <td>70.0</td>\n",
       "      <td>60.0</td>\n",
       "      <td>43.0</td>\n",
       "      <td>50.0</td>\n",
       "      <td>44.0</td>\n",
       "      <td>38.0</td>\n",
       "      <td>63.0</td>\n",
       "      <td>48.0</td>\n",
       "      <td>60.0</td>\n",
       "      <td>64.0</td>\n",
       "      <td>59.0</td>\n",
       "      <td>46.0</td>\n",
       "      <td>65.0</td>\n",
       "      <td>54.0</td>\n",
       "      <td>58.0</td>\n",
       "      <td>54.0</td>\n",
       "      <td>76.0</td>\n",
       "      <td>34.0</td>\n",
       "      <td>62.0</td>\n",
       "      <td>40.0</td>\n",
       "      <td>44.0</td>\n",
       "      <td>53.0</td>\n",
       "      <td>47.0</td>\n",
       "      <td>62.0</td>\n",
       "      <td>63.0</td>\n",
       "      <td>66.0</td>\n",
       "      <td>5.0</td>\n",
       "      <td>10.0</td>\n",
       "      <td>9.0</td>\n",
       "      <td>7.0</td>\n",
       "      <td>7.0</td>\n",
       "    </tr>\n",
       "  </tbody>\n",
       "</table>\n",
       "</div>"
      ],
      "text/plain": [
       "    player_fifa_api_id  player_api_id                 date  overall_rating  \\\n",
       "id                                                                           \n",
       "1               218353         505942  2016-02-18 00:00:00            67.0   \n",
       "2               218353         505942  2015-11-19 00:00:00            67.0   \n",
       "3               218353         505942  2015-09-21 00:00:00            62.0   \n",
       "4               218353         505942  2015-03-20 00:00:00            61.0   \n",
       "5               218353         505942  2007-02-22 00:00:00            61.0   \n",
       "\n",
       "    potential preferred_foot attacking_work_rate defensive_work_rate  \\\n",
       "id                                                                     \n",
       "1        71.0          right              medium              medium   \n",
       "2        71.0          right              medium              medium   \n",
       "3        66.0          right              medium              medium   \n",
       "4        65.0          right              medium              medium   \n",
       "5        65.0          right              medium              medium   \n",
       "\n",
       "    crossing  finishing  heading_accuracy  short_passing  volleys  dribbling  \\\n",
       "id                                                                             \n",
       "1       49.0       44.0              71.0           61.0     44.0       51.0   \n",
       "2       49.0       44.0              71.0           61.0     44.0       51.0   \n",
       "3       49.0       44.0              71.0           61.0     44.0       51.0   \n",
       "4       48.0       43.0              70.0           60.0     43.0       50.0   \n",
       "5       48.0       43.0              70.0           60.0     43.0       50.0   \n",
       "\n",
       "    curve  free_kick_accuracy  long_passing  ball_control  acceleration  \\\n",
       "id                                                                        \n",
       "1    45.0                39.0          64.0          49.0          60.0   \n",
       "2    45.0                39.0          64.0          49.0          60.0   \n",
       "3    45.0                39.0          64.0          49.0          60.0   \n",
       "4    44.0                38.0          63.0          48.0          60.0   \n",
       "5    44.0                38.0          63.0          48.0          60.0   \n",
       "\n",
       "    sprint_speed  agility  reactions  balance  shot_power  jumping  stamina  \\\n",
       "id                                                                            \n",
       "1           64.0     59.0       47.0     65.0        55.0     58.0     54.0   \n",
       "2           64.0     59.0       47.0     65.0        55.0     58.0     54.0   \n",
       "3           64.0     59.0       47.0     65.0        55.0     58.0     54.0   \n",
       "4           64.0     59.0       46.0     65.0        54.0     58.0     54.0   \n",
       "5           64.0     59.0       46.0     65.0        54.0     58.0     54.0   \n",
       "\n",
       "    strength  long_shots  aggression  interceptions  positioning  vision  \\\n",
       "id                                                                         \n",
       "1       76.0        35.0        71.0           70.0         45.0    54.0   \n",
       "2       76.0        35.0        71.0           70.0         45.0    54.0   \n",
       "3       76.0        35.0        63.0           41.0         45.0    54.0   \n",
       "4       76.0        34.0        62.0           40.0         44.0    53.0   \n",
       "5       76.0        34.0        62.0           40.0         44.0    53.0   \n",
       "\n",
       "    penalties  marking  standing_tackle  sliding_tackle  gk_diving  \\\n",
       "id                                                                   \n",
       "1        48.0     65.0             69.0            69.0        6.0   \n",
       "2        48.0     65.0             69.0            69.0        6.0   \n",
       "3        48.0     65.0             66.0            69.0        6.0   \n",
       "4        47.0     62.0             63.0            66.0        5.0   \n",
       "5        47.0     62.0             63.0            66.0        5.0   \n",
       "\n",
       "    gk_handling  gk_kicking  gk_positioning  gk_reflexes  \n",
       "id                                                        \n",
       "1          11.0        10.0             8.0          8.0  \n",
       "2          11.0        10.0             8.0          8.0  \n",
       "3          11.0        10.0             8.0          8.0  \n",
       "4          10.0         9.0             7.0          7.0  \n",
       "5          10.0         9.0             7.0          7.0  "
      ]
     },
     "execution_count": 21,
     "metadata": {},
     "output_type": "execute_result"
    }
   ],
   "source": [
    "pd.options.display.max_columns = None\n",
    "#pd.set_option('display.max_rows', None)\n",
    "df.set_index('id', inplace=True)\n",
    "df.head()"
   ]
  },
  {
   "cell_type": "code",
   "execution_count": 22,
   "metadata": {},
   "outputs": [
    {
     "name": "stdout",
     "output_type": "stream",
     "text": [
      "<class 'pandas.core.frame.DataFrame'>\n",
      "Int64Index: 183978 entries, 1 to 183978\n",
      "Data columns (total 41 columns):\n",
      "player_fifa_api_id     183978 non-null int64\n",
      "player_api_id          183978 non-null int64\n",
      "date                   183978 non-null object\n",
      "overall_rating         183142 non-null float64\n",
      "potential              183142 non-null float64\n",
      "preferred_foot         183142 non-null object\n",
      "attacking_work_rate    180748 non-null object\n",
      "defensive_work_rate    183142 non-null object\n",
      "crossing               183142 non-null float64\n",
      "finishing              183142 non-null float64\n",
      "heading_accuracy       183142 non-null float64\n",
      "short_passing          183142 non-null float64\n",
      "volleys                181265 non-null float64\n",
      "dribbling              183142 non-null float64\n",
      "curve                  181265 non-null float64\n",
      "free_kick_accuracy     183142 non-null float64\n",
      "long_passing           183142 non-null float64\n",
      "ball_control           183142 non-null float64\n",
      "acceleration           183142 non-null float64\n",
      "sprint_speed           183142 non-null float64\n",
      "agility                181265 non-null float64\n",
      "reactions              183142 non-null float64\n",
      "balance                181265 non-null float64\n",
      "shot_power             183142 non-null float64\n",
      "jumping                181265 non-null float64\n",
      "stamina                183142 non-null float64\n",
      "strength               183142 non-null float64\n",
      "long_shots             183142 non-null float64\n",
      "aggression             183142 non-null float64\n",
      "interceptions          183142 non-null float64\n",
      "positioning            183142 non-null float64\n",
      "vision                 181265 non-null float64\n",
      "penalties              183142 non-null float64\n",
      "marking                183142 non-null float64\n",
      "standing_tackle        183142 non-null float64\n",
      "sliding_tackle         181265 non-null float64\n",
      "gk_diving              183142 non-null float64\n",
      "gk_handling            183142 non-null float64\n",
      "gk_kicking             183142 non-null float64\n",
      "gk_positioning         183142 non-null float64\n",
      "gk_reflexes            183142 non-null float64\n",
      "dtypes: float64(35), int64(2), object(4)\n",
      "memory usage: 59.0+ MB\n"
     ]
    }
   ],
   "source": [
    "df.info()"
   ]
  },
  {
   "cell_type": "code",
   "execution_count": 23,
   "metadata": {},
   "outputs": [
    {
     "data": {
      "text/html": [
       "<div>\n",
       "<style scoped>\n",
       "    .dataframe tbody tr th:only-of-type {\n",
       "        vertical-align: middle;\n",
       "    }\n",
       "\n",
       "    .dataframe tbody tr th {\n",
       "        vertical-align: top;\n",
       "    }\n",
       "\n",
       "    .dataframe thead th {\n",
       "        text-align: right;\n",
       "    }\n",
       "</style>\n",
       "<table border=\"1\" class=\"dataframe\">\n",
       "  <thead>\n",
       "    <tr style=\"text-align: right;\">\n",
       "      <th></th>\n",
       "      <th>player_fifa_api_id</th>\n",
       "      <th>player_api_id</th>\n",
       "      <th>date</th>\n",
       "      <th>overall_rating</th>\n",
       "      <th>potential</th>\n",
       "      <th>preferred_foot</th>\n",
       "      <th>attacking_work_rate</th>\n",
       "      <th>defensive_work_rate</th>\n",
       "      <th>crossing</th>\n",
       "      <th>finishing</th>\n",
       "      <th>heading_accuracy</th>\n",
       "      <th>short_passing</th>\n",
       "      <th>volleys</th>\n",
       "      <th>dribbling</th>\n",
       "      <th>curve</th>\n",
       "      <th>free_kick_accuracy</th>\n",
       "      <th>long_passing</th>\n",
       "      <th>ball_control</th>\n",
       "      <th>acceleration</th>\n",
       "      <th>sprint_speed</th>\n",
       "      <th>agility</th>\n",
       "      <th>reactions</th>\n",
       "      <th>balance</th>\n",
       "      <th>shot_power</th>\n",
       "      <th>jumping</th>\n",
       "      <th>stamina</th>\n",
       "      <th>strength</th>\n",
       "      <th>long_shots</th>\n",
       "      <th>aggression</th>\n",
       "      <th>interceptions</th>\n",
       "      <th>positioning</th>\n",
       "      <th>vision</th>\n",
       "      <th>penalties</th>\n",
       "      <th>marking</th>\n",
       "      <th>standing_tackle</th>\n",
       "      <th>sliding_tackle</th>\n",
       "      <th>gk_diving</th>\n",
       "      <th>gk_handling</th>\n",
       "      <th>gk_kicking</th>\n",
       "      <th>gk_positioning</th>\n",
       "      <th>gk_reflexes</th>\n",
       "    </tr>\n",
       "  </thead>\n",
       "  <tbody>\n",
       "    <tr>\n",
       "      <th>count</th>\n",
       "      <td>183978.000000</td>\n",
       "      <td>183978.000000</td>\n",
       "      <td>183978</td>\n",
       "      <td>183142.000000</td>\n",
       "      <td>183142.000000</td>\n",
       "      <td>183142</td>\n",
       "      <td>180748</td>\n",
       "      <td>183142</td>\n",
       "      <td>183142.000000</td>\n",
       "      <td>183142.000000</td>\n",
       "      <td>183142.000000</td>\n",
       "      <td>183142.000000</td>\n",
       "      <td>181265.000000</td>\n",
       "      <td>183142.000000</td>\n",
       "      <td>181265.000000</td>\n",
       "      <td>183142.000000</td>\n",
       "      <td>183142.000000</td>\n",
       "      <td>183142.000000</td>\n",
       "      <td>183142.000000</td>\n",
       "      <td>183142.000000</td>\n",
       "      <td>181265.000000</td>\n",
       "      <td>183142.000000</td>\n",
       "      <td>181265.000000</td>\n",
       "      <td>183142.000000</td>\n",
       "      <td>181265.000000</td>\n",
       "      <td>183142.000000</td>\n",
       "      <td>183142.000000</td>\n",
       "      <td>183142.000000</td>\n",
       "      <td>183142.000000</td>\n",
       "      <td>183142.000000</td>\n",
       "      <td>183142.000000</td>\n",
       "      <td>181265.000000</td>\n",
       "      <td>183142.000000</td>\n",
       "      <td>183142.000000</td>\n",
       "      <td>183142.000000</td>\n",
       "      <td>181265.000000</td>\n",
       "      <td>183142.000000</td>\n",
       "      <td>183142.000000</td>\n",
       "      <td>183142.000000</td>\n",
       "      <td>183142.000000</td>\n",
       "      <td>183142.000000</td>\n",
       "    </tr>\n",
       "    <tr>\n",
       "      <th>unique</th>\n",
       "      <td>NaN</td>\n",
       "      <td>NaN</td>\n",
       "      <td>197</td>\n",
       "      <td>NaN</td>\n",
       "      <td>NaN</td>\n",
       "      <td>2</td>\n",
       "      <td>8</td>\n",
       "      <td>19</td>\n",
       "      <td>NaN</td>\n",
       "      <td>NaN</td>\n",
       "      <td>NaN</td>\n",
       "      <td>NaN</td>\n",
       "      <td>NaN</td>\n",
       "      <td>NaN</td>\n",
       "      <td>NaN</td>\n",
       "      <td>NaN</td>\n",
       "      <td>NaN</td>\n",
       "      <td>NaN</td>\n",
       "      <td>NaN</td>\n",
       "      <td>NaN</td>\n",
       "      <td>NaN</td>\n",
       "      <td>NaN</td>\n",
       "      <td>NaN</td>\n",
       "      <td>NaN</td>\n",
       "      <td>NaN</td>\n",
       "      <td>NaN</td>\n",
       "      <td>NaN</td>\n",
       "      <td>NaN</td>\n",
       "      <td>NaN</td>\n",
       "      <td>NaN</td>\n",
       "      <td>NaN</td>\n",
       "      <td>NaN</td>\n",
       "      <td>NaN</td>\n",
       "      <td>NaN</td>\n",
       "      <td>NaN</td>\n",
       "      <td>NaN</td>\n",
       "      <td>NaN</td>\n",
       "      <td>NaN</td>\n",
       "      <td>NaN</td>\n",
       "      <td>NaN</td>\n",
       "      <td>NaN</td>\n",
       "    </tr>\n",
       "    <tr>\n",
       "      <th>top</th>\n",
       "      <td>NaN</td>\n",
       "      <td>NaN</td>\n",
       "      <td>2007-02-22 00:00:00</td>\n",
       "      <td>NaN</td>\n",
       "      <td>NaN</td>\n",
       "      <td>right</td>\n",
       "      <td>medium</td>\n",
       "      <td>medium</td>\n",
       "      <td>NaN</td>\n",
       "      <td>NaN</td>\n",
       "      <td>NaN</td>\n",
       "      <td>NaN</td>\n",
       "      <td>NaN</td>\n",
       "      <td>NaN</td>\n",
       "      <td>NaN</td>\n",
       "      <td>NaN</td>\n",
       "      <td>NaN</td>\n",
       "      <td>NaN</td>\n",
       "      <td>NaN</td>\n",
       "      <td>NaN</td>\n",
       "      <td>NaN</td>\n",
       "      <td>NaN</td>\n",
       "      <td>NaN</td>\n",
       "      <td>NaN</td>\n",
       "      <td>NaN</td>\n",
       "      <td>NaN</td>\n",
       "      <td>NaN</td>\n",
       "      <td>NaN</td>\n",
       "      <td>NaN</td>\n",
       "      <td>NaN</td>\n",
       "      <td>NaN</td>\n",
       "      <td>NaN</td>\n",
       "      <td>NaN</td>\n",
       "      <td>NaN</td>\n",
       "      <td>NaN</td>\n",
       "      <td>NaN</td>\n",
       "      <td>NaN</td>\n",
       "      <td>NaN</td>\n",
       "      <td>NaN</td>\n",
       "      <td>NaN</td>\n",
       "      <td>NaN</td>\n",
       "    </tr>\n",
       "    <tr>\n",
       "      <th>freq</th>\n",
       "      <td>NaN</td>\n",
       "      <td>NaN</td>\n",
       "      <td>11794</td>\n",
       "      <td>NaN</td>\n",
       "      <td>NaN</td>\n",
       "      <td>138409</td>\n",
       "      <td>125070</td>\n",
       "      <td>130846</td>\n",
       "      <td>NaN</td>\n",
       "      <td>NaN</td>\n",
       "      <td>NaN</td>\n",
       "      <td>NaN</td>\n",
       "      <td>NaN</td>\n",
       "      <td>NaN</td>\n",
       "      <td>NaN</td>\n",
       "      <td>NaN</td>\n",
       "      <td>NaN</td>\n",
       "      <td>NaN</td>\n",
       "      <td>NaN</td>\n",
       "      <td>NaN</td>\n",
       "      <td>NaN</td>\n",
       "      <td>NaN</td>\n",
       "      <td>NaN</td>\n",
       "      <td>NaN</td>\n",
       "      <td>NaN</td>\n",
       "      <td>NaN</td>\n",
       "      <td>NaN</td>\n",
       "      <td>NaN</td>\n",
       "      <td>NaN</td>\n",
       "      <td>NaN</td>\n",
       "      <td>NaN</td>\n",
       "      <td>NaN</td>\n",
       "      <td>NaN</td>\n",
       "      <td>NaN</td>\n",
       "      <td>NaN</td>\n",
       "      <td>NaN</td>\n",
       "      <td>NaN</td>\n",
       "      <td>NaN</td>\n",
       "      <td>NaN</td>\n",
       "      <td>NaN</td>\n",
       "      <td>NaN</td>\n",
       "    </tr>\n",
       "    <tr>\n",
       "      <th>mean</th>\n",
       "      <td>165671.524291</td>\n",
       "      <td>135900.617324</td>\n",
       "      <td>NaN</td>\n",
       "      <td>68.600015</td>\n",
       "      <td>73.460353</td>\n",
       "      <td>NaN</td>\n",
       "      <td>NaN</td>\n",
       "      <td>NaN</td>\n",
       "      <td>55.086883</td>\n",
       "      <td>49.921078</td>\n",
       "      <td>57.266023</td>\n",
       "      <td>62.429672</td>\n",
       "      <td>49.468436</td>\n",
       "      <td>59.175154</td>\n",
       "      <td>52.965675</td>\n",
       "      <td>49.380950</td>\n",
       "      <td>57.069880</td>\n",
       "      <td>63.388879</td>\n",
       "      <td>67.659357</td>\n",
       "      <td>68.051244</td>\n",
       "      <td>65.970910</td>\n",
       "      <td>66.103706</td>\n",
       "      <td>65.189496</td>\n",
       "      <td>61.808427</td>\n",
       "      <td>66.969045</td>\n",
       "      <td>67.038544</td>\n",
       "      <td>67.424529</td>\n",
       "      <td>53.339431</td>\n",
       "      <td>60.948046</td>\n",
       "      <td>52.009271</td>\n",
       "      <td>55.786504</td>\n",
       "      <td>57.873550</td>\n",
       "      <td>55.003986</td>\n",
       "      <td>46.772242</td>\n",
       "      <td>50.351257</td>\n",
       "      <td>48.001462</td>\n",
       "      <td>14.704393</td>\n",
       "      <td>16.063612</td>\n",
       "      <td>20.998362</td>\n",
       "      <td>16.132154</td>\n",
       "      <td>16.441439</td>\n",
       "    </tr>\n",
       "    <tr>\n",
       "      <th>std</th>\n",
       "      <td>53851.094769</td>\n",
       "      <td>136927.840510</td>\n",
       "      <td>NaN</td>\n",
       "      <td>7.041139</td>\n",
       "      <td>6.592271</td>\n",
       "      <td>NaN</td>\n",
       "      <td>NaN</td>\n",
       "      <td>NaN</td>\n",
       "      <td>17.242135</td>\n",
       "      <td>19.038705</td>\n",
       "      <td>16.488905</td>\n",
       "      <td>14.194068</td>\n",
       "      <td>18.256618</td>\n",
       "      <td>17.744688</td>\n",
       "      <td>18.255788</td>\n",
       "      <td>17.831746</td>\n",
       "      <td>14.394464</td>\n",
       "      <td>15.196671</td>\n",
       "      <td>12.983326</td>\n",
       "      <td>12.569721</td>\n",
       "      <td>12.954585</td>\n",
       "      <td>9.155408</td>\n",
       "      <td>13.063188</td>\n",
       "      <td>16.135143</td>\n",
       "      <td>11.006734</td>\n",
       "      <td>13.165262</td>\n",
       "      <td>12.072280</td>\n",
       "      <td>18.367025</td>\n",
       "      <td>16.089521</td>\n",
       "      <td>19.450133</td>\n",
       "      <td>18.448292</td>\n",
       "      <td>15.144086</td>\n",
       "      <td>15.546519</td>\n",
       "      <td>21.227667</td>\n",
       "      <td>21.483706</td>\n",
       "      <td>21.598778</td>\n",
       "      <td>16.865467</td>\n",
       "      <td>15.867382</td>\n",
       "      <td>21.452980</td>\n",
       "      <td>16.099175</td>\n",
       "      <td>17.198155</td>\n",
       "    </tr>\n",
       "    <tr>\n",
       "      <th>min</th>\n",
       "      <td>2.000000</td>\n",
       "      <td>2625.000000</td>\n",
       "      <td>NaN</td>\n",
       "      <td>33.000000</td>\n",
       "      <td>39.000000</td>\n",
       "      <td>NaN</td>\n",
       "      <td>NaN</td>\n",
       "      <td>NaN</td>\n",
       "      <td>1.000000</td>\n",
       "      <td>1.000000</td>\n",
       "      <td>1.000000</td>\n",
       "      <td>3.000000</td>\n",
       "      <td>1.000000</td>\n",
       "      <td>1.000000</td>\n",
       "      <td>2.000000</td>\n",
       "      <td>1.000000</td>\n",
       "      <td>3.000000</td>\n",
       "      <td>5.000000</td>\n",
       "      <td>10.000000</td>\n",
       "      <td>12.000000</td>\n",
       "      <td>11.000000</td>\n",
       "      <td>17.000000</td>\n",
       "      <td>12.000000</td>\n",
       "      <td>2.000000</td>\n",
       "      <td>14.000000</td>\n",
       "      <td>10.000000</td>\n",
       "      <td>10.000000</td>\n",
       "      <td>1.000000</td>\n",
       "      <td>6.000000</td>\n",
       "      <td>1.000000</td>\n",
       "      <td>2.000000</td>\n",
       "      <td>1.000000</td>\n",
       "      <td>2.000000</td>\n",
       "      <td>1.000000</td>\n",
       "      <td>1.000000</td>\n",
       "      <td>2.000000</td>\n",
       "      <td>1.000000</td>\n",
       "      <td>1.000000</td>\n",
       "      <td>1.000000</td>\n",
       "      <td>1.000000</td>\n",
       "      <td>1.000000</td>\n",
       "    </tr>\n",
       "    <tr>\n",
       "      <th>25%</th>\n",
       "      <td>155798.000000</td>\n",
       "      <td>34763.000000</td>\n",
       "      <td>NaN</td>\n",
       "      <td>64.000000</td>\n",
       "      <td>69.000000</td>\n",
       "      <td>NaN</td>\n",
       "      <td>NaN</td>\n",
       "      <td>NaN</td>\n",
       "      <td>45.000000</td>\n",
       "      <td>34.000000</td>\n",
       "      <td>49.000000</td>\n",
       "      <td>57.000000</td>\n",
       "      <td>35.000000</td>\n",
       "      <td>52.000000</td>\n",
       "      <td>41.000000</td>\n",
       "      <td>36.000000</td>\n",
       "      <td>49.000000</td>\n",
       "      <td>58.000000</td>\n",
       "      <td>61.000000</td>\n",
       "      <td>62.000000</td>\n",
       "      <td>58.000000</td>\n",
       "      <td>61.000000</td>\n",
       "      <td>58.000000</td>\n",
       "      <td>54.000000</td>\n",
       "      <td>60.000000</td>\n",
       "      <td>61.000000</td>\n",
       "      <td>60.000000</td>\n",
       "      <td>41.000000</td>\n",
       "      <td>51.000000</td>\n",
       "      <td>34.000000</td>\n",
       "      <td>45.000000</td>\n",
       "      <td>49.000000</td>\n",
       "      <td>45.000000</td>\n",
       "      <td>25.000000</td>\n",
       "      <td>29.000000</td>\n",
       "      <td>25.000000</td>\n",
       "      <td>7.000000</td>\n",
       "      <td>8.000000</td>\n",
       "      <td>8.000000</td>\n",
       "      <td>8.000000</td>\n",
       "      <td>8.000000</td>\n",
       "    </tr>\n",
       "    <tr>\n",
       "      <th>50%</th>\n",
       "      <td>183488.000000</td>\n",
       "      <td>77741.000000</td>\n",
       "      <td>NaN</td>\n",
       "      <td>69.000000</td>\n",
       "      <td>74.000000</td>\n",
       "      <td>NaN</td>\n",
       "      <td>NaN</td>\n",
       "      <td>NaN</td>\n",
       "      <td>59.000000</td>\n",
       "      <td>53.000000</td>\n",
       "      <td>60.000000</td>\n",
       "      <td>65.000000</td>\n",
       "      <td>52.000000</td>\n",
       "      <td>64.000000</td>\n",
       "      <td>56.000000</td>\n",
       "      <td>50.000000</td>\n",
       "      <td>59.000000</td>\n",
       "      <td>67.000000</td>\n",
       "      <td>69.000000</td>\n",
       "      <td>69.000000</td>\n",
       "      <td>68.000000</td>\n",
       "      <td>67.000000</td>\n",
       "      <td>67.000000</td>\n",
       "      <td>65.000000</td>\n",
       "      <td>68.000000</td>\n",
       "      <td>69.000000</td>\n",
       "      <td>69.000000</td>\n",
       "      <td>58.000000</td>\n",
       "      <td>64.000000</td>\n",
       "      <td>57.000000</td>\n",
       "      <td>60.000000</td>\n",
       "      <td>60.000000</td>\n",
       "      <td>57.000000</td>\n",
       "      <td>50.000000</td>\n",
       "      <td>56.000000</td>\n",
       "      <td>53.000000</td>\n",
       "      <td>10.000000</td>\n",
       "      <td>11.000000</td>\n",
       "      <td>12.000000</td>\n",
       "      <td>11.000000</td>\n",
       "      <td>11.000000</td>\n",
       "    </tr>\n",
       "    <tr>\n",
       "      <th>75%</th>\n",
       "      <td>199848.000000</td>\n",
       "      <td>191080.000000</td>\n",
       "      <td>NaN</td>\n",
       "      <td>73.000000</td>\n",
       "      <td>78.000000</td>\n",
       "      <td>NaN</td>\n",
       "      <td>NaN</td>\n",
       "      <td>NaN</td>\n",
       "      <td>68.000000</td>\n",
       "      <td>65.000000</td>\n",
       "      <td>68.000000</td>\n",
       "      <td>72.000000</td>\n",
       "      <td>64.000000</td>\n",
       "      <td>72.000000</td>\n",
       "      <td>67.000000</td>\n",
       "      <td>63.000000</td>\n",
       "      <td>67.000000</td>\n",
       "      <td>73.000000</td>\n",
       "      <td>77.000000</td>\n",
       "      <td>77.000000</td>\n",
       "      <td>75.000000</td>\n",
       "      <td>72.000000</td>\n",
       "      <td>74.000000</td>\n",
       "      <td>73.000000</td>\n",
       "      <td>74.000000</td>\n",
       "      <td>76.000000</td>\n",
       "      <td>76.000000</td>\n",
       "      <td>67.000000</td>\n",
       "      <td>73.000000</td>\n",
       "      <td>68.000000</td>\n",
       "      <td>69.000000</td>\n",
       "      <td>69.000000</td>\n",
       "      <td>67.000000</td>\n",
       "      <td>66.000000</td>\n",
       "      <td>69.000000</td>\n",
       "      <td>67.000000</td>\n",
       "      <td>13.000000</td>\n",
       "      <td>15.000000</td>\n",
       "      <td>15.000000</td>\n",
       "      <td>15.000000</td>\n",
       "      <td>15.000000</td>\n",
       "    </tr>\n",
       "    <tr>\n",
       "      <th>max</th>\n",
       "      <td>234141.000000</td>\n",
       "      <td>750584.000000</td>\n",
       "      <td>NaN</td>\n",
       "      <td>94.000000</td>\n",
       "      <td>97.000000</td>\n",
       "      <td>NaN</td>\n",
       "      <td>NaN</td>\n",
       "      <td>NaN</td>\n",
       "      <td>95.000000</td>\n",
       "      <td>97.000000</td>\n",
       "      <td>98.000000</td>\n",
       "      <td>97.000000</td>\n",
       "      <td>93.000000</td>\n",
       "      <td>97.000000</td>\n",
       "      <td>94.000000</td>\n",
       "      <td>97.000000</td>\n",
       "      <td>97.000000</td>\n",
       "      <td>97.000000</td>\n",
       "      <td>97.000000</td>\n",
       "      <td>97.000000</td>\n",
       "      <td>96.000000</td>\n",
       "      <td>96.000000</td>\n",
       "      <td>96.000000</td>\n",
       "      <td>97.000000</td>\n",
       "      <td>96.000000</td>\n",
       "      <td>96.000000</td>\n",
       "      <td>96.000000</td>\n",
       "      <td>96.000000</td>\n",
       "      <td>97.000000</td>\n",
       "      <td>96.000000</td>\n",
       "      <td>96.000000</td>\n",
       "      <td>97.000000</td>\n",
       "      <td>96.000000</td>\n",
       "      <td>96.000000</td>\n",
       "      <td>95.000000</td>\n",
       "      <td>95.000000</td>\n",
       "      <td>94.000000</td>\n",
       "      <td>93.000000</td>\n",
       "      <td>97.000000</td>\n",
       "      <td>96.000000</td>\n",
       "      <td>96.000000</td>\n",
       "    </tr>\n",
       "  </tbody>\n",
       "</table>\n",
       "</div>"
      ],
      "text/plain": [
       "        player_fifa_api_id  player_api_id                 date  \\\n",
       "count        183978.000000  183978.000000               183978   \n",
       "unique                 NaN            NaN                  197   \n",
       "top                    NaN            NaN  2007-02-22 00:00:00   \n",
       "freq                   NaN            NaN                11794   \n",
       "mean         165671.524291  135900.617324                  NaN   \n",
       "std           53851.094769  136927.840510                  NaN   \n",
       "min               2.000000    2625.000000                  NaN   \n",
       "25%          155798.000000   34763.000000                  NaN   \n",
       "50%          183488.000000   77741.000000                  NaN   \n",
       "75%          199848.000000  191080.000000                  NaN   \n",
       "max          234141.000000  750584.000000                  NaN   \n",
       "\n",
       "        overall_rating      potential preferred_foot attacking_work_rate  \\\n",
       "count    183142.000000  183142.000000         183142              180748   \n",
       "unique             NaN            NaN              2                   8   \n",
       "top                NaN            NaN          right              medium   \n",
       "freq               NaN            NaN         138409              125070   \n",
       "mean         68.600015      73.460353            NaN                 NaN   \n",
       "std           7.041139       6.592271            NaN                 NaN   \n",
       "min          33.000000      39.000000            NaN                 NaN   \n",
       "25%          64.000000      69.000000            NaN                 NaN   \n",
       "50%          69.000000      74.000000            NaN                 NaN   \n",
       "75%          73.000000      78.000000            NaN                 NaN   \n",
       "max          94.000000      97.000000            NaN                 NaN   \n",
       "\n",
       "       defensive_work_rate       crossing      finishing  heading_accuracy  \\\n",
       "count               183142  183142.000000  183142.000000     183142.000000   \n",
       "unique                  19            NaN            NaN               NaN   \n",
       "top                 medium            NaN            NaN               NaN   \n",
       "freq                130846            NaN            NaN               NaN   \n",
       "mean                   NaN      55.086883      49.921078         57.266023   \n",
       "std                    NaN      17.242135      19.038705         16.488905   \n",
       "min                    NaN       1.000000       1.000000          1.000000   \n",
       "25%                    NaN      45.000000      34.000000         49.000000   \n",
       "50%                    NaN      59.000000      53.000000         60.000000   \n",
       "75%                    NaN      68.000000      65.000000         68.000000   \n",
       "max                    NaN      95.000000      97.000000         98.000000   \n",
       "\n",
       "        short_passing        volleys      dribbling          curve  \\\n",
       "count   183142.000000  181265.000000  183142.000000  181265.000000   \n",
       "unique            NaN            NaN            NaN            NaN   \n",
       "top               NaN            NaN            NaN            NaN   \n",
       "freq              NaN            NaN            NaN            NaN   \n",
       "mean        62.429672      49.468436      59.175154      52.965675   \n",
       "std         14.194068      18.256618      17.744688      18.255788   \n",
       "min          3.000000       1.000000       1.000000       2.000000   \n",
       "25%         57.000000      35.000000      52.000000      41.000000   \n",
       "50%         65.000000      52.000000      64.000000      56.000000   \n",
       "75%         72.000000      64.000000      72.000000      67.000000   \n",
       "max         97.000000      93.000000      97.000000      94.000000   \n",
       "\n",
       "        free_kick_accuracy   long_passing   ball_control   acceleration  \\\n",
       "count        183142.000000  183142.000000  183142.000000  183142.000000   \n",
       "unique                 NaN            NaN            NaN            NaN   \n",
       "top                    NaN            NaN            NaN            NaN   \n",
       "freq                   NaN            NaN            NaN            NaN   \n",
       "mean             49.380950      57.069880      63.388879      67.659357   \n",
       "std              17.831746      14.394464      15.196671      12.983326   \n",
       "min               1.000000       3.000000       5.000000      10.000000   \n",
       "25%              36.000000      49.000000      58.000000      61.000000   \n",
       "50%              50.000000      59.000000      67.000000      69.000000   \n",
       "75%              63.000000      67.000000      73.000000      77.000000   \n",
       "max              97.000000      97.000000      97.000000      97.000000   \n",
       "\n",
       "         sprint_speed        agility      reactions        balance  \\\n",
       "count   183142.000000  181265.000000  183142.000000  181265.000000   \n",
       "unique            NaN            NaN            NaN            NaN   \n",
       "top               NaN            NaN            NaN            NaN   \n",
       "freq              NaN            NaN            NaN            NaN   \n",
       "mean        68.051244      65.970910      66.103706      65.189496   \n",
       "std         12.569721      12.954585       9.155408      13.063188   \n",
       "min         12.000000      11.000000      17.000000      12.000000   \n",
       "25%         62.000000      58.000000      61.000000      58.000000   \n",
       "50%         69.000000      68.000000      67.000000      67.000000   \n",
       "75%         77.000000      75.000000      72.000000      74.000000   \n",
       "max         97.000000      96.000000      96.000000      96.000000   \n",
       "\n",
       "           shot_power        jumping        stamina       strength  \\\n",
       "count   183142.000000  181265.000000  183142.000000  183142.000000   \n",
       "unique            NaN            NaN            NaN            NaN   \n",
       "top               NaN            NaN            NaN            NaN   \n",
       "freq              NaN            NaN            NaN            NaN   \n",
       "mean        61.808427      66.969045      67.038544      67.424529   \n",
       "std         16.135143      11.006734      13.165262      12.072280   \n",
       "min          2.000000      14.000000      10.000000      10.000000   \n",
       "25%         54.000000      60.000000      61.000000      60.000000   \n",
       "50%         65.000000      68.000000      69.000000      69.000000   \n",
       "75%         73.000000      74.000000      76.000000      76.000000   \n",
       "max         97.000000      96.000000      96.000000      96.000000   \n",
       "\n",
       "           long_shots     aggression  interceptions    positioning  \\\n",
       "count   183142.000000  183142.000000  183142.000000  183142.000000   \n",
       "unique            NaN            NaN            NaN            NaN   \n",
       "top               NaN            NaN            NaN            NaN   \n",
       "freq              NaN            NaN            NaN            NaN   \n",
       "mean        53.339431      60.948046      52.009271      55.786504   \n",
       "std         18.367025      16.089521      19.450133      18.448292   \n",
       "min          1.000000       6.000000       1.000000       2.000000   \n",
       "25%         41.000000      51.000000      34.000000      45.000000   \n",
       "50%         58.000000      64.000000      57.000000      60.000000   \n",
       "75%         67.000000      73.000000      68.000000      69.000000   \n",
       "max         96.000000      97.000000      96.000000      96.000000   \n",
       "\n",
       "               vision      penalties        marking  standing_tackle  \\\n",
       "count   181265.000000  183142.000000  183142.000000    183142.000000   \n",
       "unique            NaN            NaN            NaN              NaN   \n",
       "top               NaN            NaN            NaN              NaN   \n",
       "freq              NaN            NaN            NaN              NaN   \n",
       "mean        57.873550      55.003986      46.772242        50.351257   \n",
       "std         15.144086      15.546519      21.227667        21.483706   \n",
       "min          1.000000       2.000000       1.000000         1.000000   \n",
       "25%         49.000000      45.000000      25.000000        29.000000   \n",
       "50%         60.000000      57.000000      50.000000        56.000000   \n",
       "75%         69.000000      67.000000      66.000000        69.000000   \n",
       "max         97.000000      96.000000      96.000000        95.000000   \n",
       "\n",
       "        sliding_tackle      gk_diving    gk_handling     gk_kicking  \\\n",
       "count    181265.000000  183142.000000  183142.000000  183142.000000   \n",
       "unique             NaN            NaN            NaN            NaN   \n",
       "top                NaN            NaN            NaN            NaN   \n",
       "freq               NaN            NaN            NaN            NaN   \n",
       "mean         48.001462      14.704393      16.063612      20.998362   \n",
       "std          21.598778      16.865467      15.867382      21.452980   \n",
       "min           2.000000       1.000000       1.000000       1.000000   \n",
       "25%          25.000000       7.000000       8.000000       8.000000   \n",
       "50%          53.000000      10.000000      11.000000      12.000000   \n",
       "75%          67.000000      13.000000      15.000000      15.000000   \n",
       "max          95.000000      94.000000      93.000000      97.000000   \n",
       "\n",
       "        gk_positioning    gk_reflexes  \n",
       "count    183142.000000  183142.000000  \n",
       "unique             NaN            NaN  \n",
       "top                NaN            NaN  \n",
       "freq               NaN            NaN  \n",
       "mean         16.132154      16.441439  \n",
       "std          16.099175      17.198155  \n",
       "min           1.000000       1.000000  \n",
       "25%           8.000000       8.000000  \n",
       "50%          11.000000      11.000000  \n",
       "75%          15.000000      15.000000  \n",
       "max          96.000000      96.000000  "
      ]
     },
     "execution_count": 23,
     "metadata": {},
     "output_type": "execute_result"
    }
   ],
   "source": [
    "df.describe(include='all')"
   ]
  },
  {
   "cell_type": "code",
   "execution_count": 24,
   "metadata": {},
   "outputs": [
    {
     "data": {
      "text/plain": [
       "player_fifa_api_id        0\n",
       "player_api_id             0\n",
       "date                      0\n",
       "overall_rating          836\n",
       "potential               836\n",
       "preferred_foot          836\n",
       "attacking_work_rate    3230\n",
       "defensive_work_rate     836\n",
       "crossing                836\n",
       "finishing               836\n",
       "heading_accuracy        836\n",
       "short_passing           836\n",
       "volleys                2713\n",
       "dribbling               836\n",
       "curve                  2713\n",
       "free_kick_accuracy      836\n",
       "long_passing            836\n",
       "ball_control            836\n",
       "acceleration            836\n",
       "sprint_speed            836\n",
       "agility                2713\n",
       "reactions               836\n",
       "balance                2713\n",
       "shot_power              836\n",
       "jumping                2713\n",
       "stamina                 836\n",
       "strength                836\n",
       "long_shots              836\n",
       "aggression              836\n",
       "interceptions           836\n",
       "positioning             836\n",
       "vision                 2713\n",
       "penalties               836\n",
       "marking                 836\n",
       "standing_tackle         836\n",
       "sliding_tackle         2713\n",
       "gk_diving               836\n",
       "gk_handling             836\n",
       "gk_kicking              836\n",
       "gk_positioning          836\n",
       "gk_reflexes             836\n",
       "dtype: int64"
      ]
     },
     "execution_count": 24,
     "metadata": {},
     "output_type": "execute_result"
    }
   ],
   "source": [
    "df.isnull().sum(axis=0)"
   ]
  },
  {
   "cell_type": "markdown",
   "metadata": {},
   "source": [
    "Drop rows where atleast 836 records for 38 columns out of total 41 columns are NaN because they have overall_rating value as NaN and all other columns except columns named as player_fifa_api_id, player_api_id and date which has no significance in predicting overall rating of a player."
   ]
  },
  {
   "cell_type": "code",
   "execution_count": 26,
   "metadata": {},
   "outputs": [],
   "source": [
    "df.dropna(axis=0, how='all', thresh = 38, inplace=True)"
   ]
  },
  {
   "cell_type": "code",
   "execution_count": 27,
   "metadata": {},
   "outputs": [
    {
     "data": {
      "text/plain": [
       "player_fifa_api_id       0\n",
       "player_api_id            0\n",
       "date                     0\n",
       "overall_rating           0\n",
       "potential                0\n",
       "preferred_foot           0\n",
       "attacking_work_rate    911\n",
       "defensive_work_rate      0\n",
       "crossing                 0\n",
       "finishing                0\n",
       "heading_accuracy         0\n",
       "short_passing            0\n",
       "volleys                  0\n",
       "dribbling                0\n",
       "curve                    0\n",
       "free_kick_accuracy       0\n",
       "long_passing             0\n",
       "ball_control             0\n",
       "acceleration             0\n",
       "sprint_speed             0\n",
       "agility                  0\n",
       "reactions                0\n",
       "balance                  0\n",
       "shot_power               0\n",
       "jumping                  0\n",
       "stamina                  0\n",
       "strength                 0\n",
       "long_shots               0\n",
       "aggression               0\n",
       "interceptions            0\n",
       "positioning              0\n",
       "vision                   0\n",
       "penalties                0\n",
       "marking                  0\n",
       "standing_tackle          0\n",
       "sliding_tackle           0\n",
       "gk_diving                0\n",
       "gk_handling              0\n",
       "gk_kicking               0\n",
       "gk_positioning           0\n",
       "gk_reflexes              0\n",
       "dtype: int64"
      ]
     },
     "execution_count": 27,
     "metadata": {},
     "output_type": "execute_result"
    }
   ],
   "source": [
    "df.isnull().sum(axis=0)"
   ]
  },
  {
   "cell_type": "code",
   "execution_count": 28,
   "metadata": {},
   "outputs": [
    {
     "data": {
      "text/plain": [
       "medium    125070\n",
       "high       42823\n",
       "low         8569\n",
       "None        3317\n",
       "norm         317\n",
       "y             94\n",
       "stoc          86\n",
       "le            78\n",
       "Name: attacking_work_rate, dtype: int64"
      ]
     },
     "execution_count": 28,
     "metadata": {},
     "output_type": "execute_result"
    }
   ],
   "source": [
    "df.attacking_work_rate.value_counts()"
   ]
  },
  {
   "cell_type": "code",
   "execution_count": 29,
   "metadata": {},
   "outputs": [
    {
     "data": {
      "text/plain": [
       "medium    130846\n",
       "high       27041\n",
       "low        18432\n",
       "o           1328\n",
       "_0           911\n",
       "1            421\n",
       "2            334\n",
       "ormal        317\n",
       "3            243\n",
       "5            231\n",
       "7            207\n",
       "0            188\n",
       "6            179\n",
       "9            143\n",
       "4            116\n",
       "es            94\n",
       "tocky         86\n",
       "ean           78\n",
       "8             70\n",
       "Name: defensive_work_rate, dtype: int64"
      ]
     },
     "execution_count": 29,
     "metadata": {},
     "output_type": "execute_result"
    }
   ],
   "source": [
    "df.defensive_work_rate.value_counts()"
   ]
  },
  {
   "cell_type": "code",
   "execution_count": 30,
   "metadata": {},
   "outputs": [
    {
     "data": {
      "text/plain": [
       "right    136953\n",
       "left      44312\n",
       "Name: preferred_foot, dtype: int64"
      ]
     },
     "execution_count": 30,
     "metadata": {},
     "output_type": "execute_result"
    }
   ],
   "source": [
    "df.preferred_foot.value_counts()"
   ]
  },
  {
   "cell_type": "code",
   "execution_count": 31,
   "metadata": {},
   "outputs": [
    {
     "data": {
      "text/plain": [
       "Text(0.5, 1.0, 'Count Of Preferred Foot')"
      ]
     },
     "execution_count": 31,
     "metadata": {},
     "output_type": "execute_result"
    },
    {
     "data": {
      "image/png": "[encoded data removed]",
      "text/plain": [
       "<Figure size 1080x360 with 3 Axes>"
      ]
     },
     "metadata": {
      "needs_background": "light"
     },
     "output_type": "display_data"
    }
   ],
   "source": [
    "plt.figure(figsize=(15, 5))\n",
    "plt.subplot(1,3,1)\n",
    "sns.countplot(df.attacking_work_rate)\n",
    "plt.title('Count Of Attacking Work Rate')\n",
    "plt.subplot(1,3,2)\n",
    "sns.countplot(df.defensive_work_rate)\n",
    "plt.title('Count Of Defensive Work Rate')\n",
    "plt.subplot(1,3,3)\n",
    "sns.countplot(df.preferred_foot)\n",
    "plt.title('Count Of Preferred Foot')"
   ]
  },
  {
   "cell_type": "code",
   "execution_count": 32,
   "metadata": {},
   "outputs": [
    {
     "data": {
      "text/plain": [
       "<matplotlib.axes._subplots.AxesSubplot at 0x1f8a630da58>"
      ]
     },
     "execution_count": 32,
     "metadata": {},
     "output_type": "execute_result"
    },
    {
     "data": {
      "image/png": "[encoded data removed]",
      "text/plain": [
       "<Figure size 2160x1440 with 2 Axes>"
      ]
     },
     "metadata": {
      "needs_background": "light"
     },
     "output_type": "display_data"
    }
   ],
   "source": [
    "plt.figure(figsize=(30,20))\n",
    "sns.heatmap(df.corr())"
   ]
  },
  {
   "cell_type": "markdown",
   "metadata": {},
   "source": [
    "## Train and Test Split"
   ]
  },
  {
   "cell_type": "markdown",
   "metadata": {},
   "source": [
    "### One Hot Encoding"
   ]
  },
  {
   "cell_type": "markdown",
   "metadata": {},
   "source": [
    "One Hot Encoding is the process of splitting categorical levels to multiple columns. The dataset contains the following three categorical columns which needs hot encoding."
   ]
  },
  {
   "cell_type": "code",
   "execution_count": 33,
   "metadata": {},
   "outputs": [],
   "source": [
    "df_dummies_attacking = pd.get_dummies(df.attacking_work_rate, drop_first=True, prefix='attacking')"
   ]
  },
  {
   "cell_type": "code",
   "execution_count": 34,
   "metadata": {},
   "outputs": [],
   "source": [
    "df_dummies_defensive = pd.get_dummies(df.defensive_work_rate, drop_first=True, prefix='defensive')"
   ]
  },
  {
   "cell_type": "code",
   "execution_count": 35,
   "metadata": {},
   "outputs": [],
   "source": [
    "df_dummies_preferredfoot = pd.get_dummies(df.preferred_foot, drop_first=True, prefix='preferred')"
   ]
  },
  {
   "cell_type": "code",
   "execution_count": 36,
   "metadata": {},
   "outputs": [],
   "source": [
    "df = df.join(df_dummies_attacking)"
   ]
  },
  {
   "cell_type": "code",
   "execution_count": 37,
   "metadata": {},
   "outputs": [],
   "source": [
    "df = df.join(df_dummies_defensive)"
   ]
  },
  {
   "cell_type": "code",
   "execution_count": 38,
   "metadata": {},
   "outputs": [],
   "source": [
    "df = df.join(df_dummies_preferredfoot)"
   ]
  },
  {
   "cell_type": "code",
   "execution_count": 39,
   "metadata": {},
   "outputs": [],
   "source": [
    "numerical_df = df.drop(['player_fifa_api_id', 'player_api_id', 'date', 'potential', 'preferred_foot', 'attacking_work_rate', 'defensive_work_rate'],axis=1)"
   ]
  },
  {
   "cell_type": "markdown",
   "metadata": {},
   "source": [
    "#### Fitting Regression Model"
   ]
  },
  {
   "cell_type": "code",
   "execution_count": 40,
   "metadata": {},
   "outputs": [
    {
     "data": {
      "text/plain": [
       "Index(['overall_rating', 'crossing', 'finishing', 'heading_accuracy',\n",
       "       'short_passing', 'volleys', 'dribbling', 'curve', 'free_kick_accuracy',\n",
       "       'long_passing', 'ball_control', 'acceleration', 'sprint_speed',\n",
       "       'agility', 'reactions', 'balance', 'shot_power', 'jumping', 'stamina',\n",
       "       'strength', 'long_shots', 'aggression', 'interceptions', 'positioning',\n",
       "       'vision', 'penalties', 'marking', 'standing_tackle', 'sliding_tackle',\n",
       "       'gk_diving', 'gk_handling', 'gk_kicking', 'gk_positioning',\n",
       "       'gk_reflexes', 'attacking_high', 'attacking_le', 'attacking_low',\n",
       "       'attacking_medium', 'attacking_norm', 'attacking_stoc', 'attacking_y',\n",
       "       'defensive_1', 'defensive_2', 'defensive_3', 'defensive_4',\n",
       "       'defensive_5', 'defensive_6', 'defensive_7', 'defensive_8',\n",
       "       'defensive_9', 'defensive__0', 'defensive_ean', 'defensive_es',\n",
       "       'defensive_high', 'defensive_low', 'defensive_medium', 'defensive_o',\n",
       "       'defensive_ormal', 'defensive_tocky', 'preferred_right'],\n",
       "      dtype='object')"
      ]
     },
     "execution_count": 40,
     "metadata": {},
     "output_type": "execute_result"
    }
   ],
   "source": [
    "numerical_df.columns"
   ]
  },
  {
   "cell_type": "markdown",
   "metadata": {},
   "source": [
    "After performing backward elimitation using P-values, I identified the below columns as the best possible combination to predict players rating considering the two vital thumbrules. \n",
    "1. P values for the selected columns are less than 0.05.\n",
    "2. R-squared value 0.786 and Adj. R-squared value 0.786 indicates the model is a sweet fit between overfitting and underfitting."
   ]
  },
  {
   "cell_type": "code",
   "execution_count": 41,
   "metadata": {},
   "outputs": [
    {
     "data": {
      "text/html": [
       "<table class=\"simpletable\">\n",
       "<caption>OLS Regression Results</caption>\n",
       "<tr>\n",
       "  <th>Dep. Variable:</th>     <td>overall_rating</td>  <th>  R-squared:         </th>  <td>   0.786</td>  \n",
       "</tr>\n",
       "<tr>\n",
       "  <th>Model:</th>                   <td>OLS</td>       <th>  Adj. R-squared:    </th>  <td>   0.786</td>  \n",
       "</tr>\n",
       "<tr>\n",
       "  <th>Method:</th>             <td>Least Squares</td>  <th>  F-statistic:       </th>  <td>1.391e+04</td> \n",
       "</tr>\n",
       "<tr>\n",
       "  <th>Date:</th>             <td>Sat, 23 Nov 2019</td> <th>  Prob (F-statistic):</th>   <td>  0.00</td>   \n",
       "</tr>\n",
       "<tr>\n",
       "  <th>Time:</th>                 <td>18:07:37</td>     <th>  Log-Likelihood:    </th> <td>-4.7076e+05</td>\n",
       "</tr>\n",
       "<tr>\n",
       "  <th>No. Observations:</th>      <td>181265</td>      <th>  AIC:               </th>  <td>9.416e+05</td> \n",
       "</tr>\n",
       "<tr>\n",
       "  <th>Df Residuals:</th>          <td>181216</td>      <th>  BIC:               </th>  <td>9.421e+05</td> \n",
       "</tr>\n",
       "<tr>\n",
       "  <th>Df Model:</th>              <td>    48</td>      <th>                     </th>      <td> </td>     \n",
       "</tr>\n",
       "<tr>\n",
       "  <th>Covariance Type:</th>      <td>nonrobust</td>    <th>                     </th>      <td> </td>     \n",
       "</tr>\n",
       "</table>\n",
       "<table class=\"simpletable\">\n",
       "<tr>\n",
       "           <td></td>             <th>coef</th>     <th>std err</th>      <th>t</th>      <th>P>|t|</th>  <th>[0.025</th>    <th>0.975]</th>  \n",
       "</tr>\n",
       "<tr>\n",
       "  <th>Intercept</th>          <td>    4.8482</td> <td>    0.157</td> <td>   30.805</td> <td> 0.000</td> <td>    4.540</td> <td>    5.157</td>\n",
       "</tr>\n",
       "<tr>\n",
       "  <th>crossing</th>           <td>   -0.0099</td> <td>    0.001</td> <td>  -10.231</td> <td> 0.000</td> <td>   -0.012</td> <td>   -0.008</td>\n",
       "</tr>\n",
       "<tr>\n",
       "  <th>finishing</th>          <td>    0.0128</td> <td>    0.001</td> <td>   12.393</td> <td> 0.000</td> <td>    0.011</td> <td>    0.015</td>\n",
       "</tr>\n",
       "<tr>\n",
       "  <th>heading_accuracy</th>   <td>    0.0990</td> <td>    0.001</td> <td>  106.306</td> <td> 0.000</td> <td>    0.097</td> <td>    0.101</td>\n",
       "</tr>\n",
       "<tr>\n",
       "  <th>short_passing</th>      <td>    0.0760</td> <td>    0.002</td> <td>   47.465</td> <td> 0.000</td> <td>    0.073</td> <td>    0.079</td>\n",
       "</tr>\n",
       "<tr>\n",
       "  <th>dribbling</th>          <td>   -0.0100</td> <td>    0.001</td> <td>   -7.373</td> <td> 0.000</td> <td>   -0.013</td> <td>   -0.007</td>\n",
       "</tr>\n",
       "<tr>\n",
       "  <th>curve</th>              <td>    0.0115</td> <td>    0.001</td> <td>   12.502</td> <td> 0.000</td> <td>    0.010</td> <td>    0.013</td>\n",
       "</tr>\n",
       "<tr>\n",
       "  <th>free_kick_accuracy</th> <td>    0.0102</td> <td>    0.001</td> <td>   12.285</td> <td> 0.000</td> <td>    0.009</td> <td>    0.012</td>\n",
       "</tr>\n",
       "<tr>\n",
       "  <th>long_passing</th>       <td>    0.0168</td> <td>    0.001</td> <td>   15.372</td> <td> 0.000</td> <td>    0.015</td> <td>    0.019</td>\n",
       "</tr>\n",
       "<tr>\n",
       "  <th>ball_control</th>       <td>    0.2300</td> <td>    0.002</td> <td>  128.150</td> <td> 0.000</td> <td>    0.227</td> <td>    0.234</td>\n",
       "</tr>\n",
       "<tr>\n",
       "  <th>acceleration</th>       <td>    0.0408</td> <td>    0.002</td> <td>   25.759</td> <td> 0.000</td> <td>    0.038</td> <td>    0.044</td>\n",
       "</tr>\n",
       "<tr>\n",
       "  <th>sprint_speed</th>       <td>    0.0490</td> <td>    0.002</td> <td>   32.351</td> <td> 0.000</td> <td>    0.046</td> <td>    0.052</td>\n",
       "</tr>\n",
       "<tr>\n",
       "  <th>agility</th>            <td>   -0.0133</td> <td>    0.001</td> <td>  -11.651</td> <td> 0.000</td> <td>   -0.016</td> <td>   -0.011</td>\n",
       "</tr>\n",
       "<tr>\n",
       "  <th>reactions</th>          <td>    0.2762</td> <td>    0.001</td> <td>  226.250</td> <td> 0.000</td> <td>    0.274</td> <td>    0.279</td>\n",
       "</tr>\n",
       "<tr>\n",
       "  <th>shot_power</th>         <td>    0.0231</td> <td>    0.001</td> <td>   22.689</td> <td> 0.000</td> <td>    0.021</td> <td>    0.025</td>\n",
       "</tr>\n",
       "<tr>\n",
       "  <th>jumping</th>            <td>    0.0130</td> <td>    0.001</td> <td>   15.789</td> <td> 0.000</td> <td>    0.011</td> <td>    0.015</td>\n",
       "</tr>\n",
       "<tr>\n",
       "  <th>stamina</th>            <td>   -0.0157</td> <td>    0.001</td> <td>  -16.454</td> <td> 0.000</td> <td>   -0.018</td> <td>   -0.014</td>\n",
       "</tr>\n",
       "<tr>\n",
       "  <th>strength</th>           <td>    0.0592</td> <td>    0.001</td> <td>   62.059</td> <td> 0.000</td> <td>    0.057</td> <td>    0.061</td>\n",
       "</tr>\n",
       "<tr>\n",
       "  <th>long_shots</th>         <td>   -0.0208</td> <td>    0.001</td> <td>  -19.667</td> <td> 0.000</td> <td>   -0.023</td> <td>   -0.019</td>\n",
       "</tr>\n",
       "<tr>\n",
       "  <th>aggression</th>         <td>    0.0104</td> <td>    0.001</td> <td>   13.011</td> <td> 0.000</td> <td>    0.009</td> <td>    0.012</td>\n",
       "</tr>\n",
       "<tr>\n",
       "  <th>interceptions</th>      <td>    0.0178</td> <td>    0.001</td> <td>   20.795</td> <td> 0.000</td> <td>    0.016</td> <td>    0.019</td>\n",
       "</tr>\n",
       "<tr>\n",
       "  <th>positioning</th>        <td>   -0.0183</td> <td>    0.001</td> <td>  -19.950</td> <td> 0.000</td> <td>   -0.020</td> <td>   -0.017</td>\n",
       "</tr>\n",
       "<tr>\n",
       "  <th>vision</th>             <td>    0.0085</td> <td>    0.001</td> <td>    8.447</td> <td> 0.000</td> <td>    0.007</td> <td>    0.010</td>\n",
       "</tr>\n",
       "<tr>\n",
       "  <th>penalties</th>          <td>    0.0155</td> <td>    0.001</td> <td>   17.813</td> <td> 0.000</td> <td>    0.014</td> <td>    0.017</td>\n",
       "</tr>\n",
       "<tr>\n",
       "  <th>marking</th>            <td>    0.0328</td> <td>    0.001</td> <td>   25.188</td> <td> 0.000</td> <td>    0.030</td> <td>    0.035</td>\n",
       "</tr>\n",
       "<tr>\n",
       "  <th>standing_tackle</th>    <td>    0.0132</td> <td>    0.002</td> <td>    8.761</td> <td> 0.000</td> <td>    0.010</td> <td>    0.016</td>\n",
       "</tr>\n",
       "<tr>\n",
       "  <th>sliding_tackle</th>     <td>   -0.0269</td> <td>    0.001</td> <td>  -20.990</td> <td> 0.000</td> <td>   -0.029</td> <td>   -0.024</td>\n",
       "</tr>\n",
       "<tr>\n",
       "  <th>gk_diving</th>          <td>    0.2072</td> <td>    0.002</td> <td>  122.382</td> <td> 0.000</td> <td>    0.204</td> <td>    0.210</td>\n",
       "</tr>\n",
       "<tr>\n",
       "  <th>gk_handling</th>        <td>    0.0571</td> <td>    0.002</td> <td>   25.589</td> <td> 0.000</td> <td>    0.053</td> <td>    0.062</td>\n",
       "</tr>\n",
       "<tr>\n",
       "  <th>gk_kicking</th>         <td>   -0.0288</td> <td>    0.001</td> <td>  -39.687</td> <td> 0.000</td> <td>   -0.030</td> <td>   -0.027</td>\n",
       "</tr>\n",
       "<tr>\n",
       "  <th>gk_positioning</th>     <td>    0.0776</td> <td>    0.002</td> <td>   34.944</td> <td> 0.000</td> <td>    0.073</td> <td>    0.082</td>\n",
       "</tr>\n",
       "<tr>\n",
       "  <th>gk_reflexes</th>        <td>    0.0466</td> <td>    0.002</td> <td>   21.387</td> <td> 0.000</td> <td>    0.042</td> <td>    0.051</td>\n",
       "</tr>\n",
       "<tr>\n",
       "  <th>attacking_high</th>     <td>    0.1342</td> <td>    0.020</td> <td>    6.760</td> <td> 0.000</td> <td>    0.095</td> <td>    0.173</td>\n",
       "</tr>\n",
       "<tr>\n",
       "  <th>attacking_low</th>      <td>    1.6030</td> <td>    0.038</td> <td>   42.214</td> <td> 0.000</td> <td>    1.529</td> <td>    1.677</td>\n",
       "</tr>\n",
       "<tr>\n",
       "  <th>attacking_norm</th>     <td>    0.4858</td> <td>    0.110</td> <td>    4.409</td> <td> 0.000</td> <td>    0.270</td> <td>    0.702</td>\n",
       "</tr>\n",
       "<tr>\n",
       "  <th>attacking_y</th>        <td>    1.6030</td> <td>    0.179</td> <td>    8.967</td> <td> 0.000</td> <td>    1.253</td> <td>    1.953</td>\n",
       "</tr>\n",
       "<tr>\n",
       "  <th>defensive_1</th>        <td>    1.9959</td> <td>    0.201</td> <td>    9.946</td> <td> 0.000</td> <td>    1.603</td> <td>    2.389</td>\n",
       "</tr>\n",
       "<tr>\n",
       "  <th>defensive_2</th>        <td>    0.7597</td> <td>    0.216</td> <td>    3.511</td> <td> 0.000</td> <td>    0.336</td> <td>    1.184</td>\n",
       "</tr>\n",
       "<tr>\n",
       "  <th>defensive_3</th>        <td>    1.2544</td> <td>    0.242</td> <td>    5.180</td> <td> 0.000</td> <td>    0.780</td> <td>    1.729</td>\n",
       "</tr>\n",
       "<tr>\n",
       "  <th>defensive_6</th>        <td>    1.5272</td> <td>    0.272</td> <td>    5.605</td> <td> 0.000</td> <td>    0.993</td> <td>    2.061</td>\n",
       "</tr>\n",
       "<tr>\n",
       "  <th>defensive_7</th>        <td>    1.9682</td> <td>    0.257</td> <td>    7.647</td> <td> 0.000</td> <td>    1.464</td> <td>    2.473</td>\n",
       "</tr>\n",
       "<tr>\n",
       "  <th>defensive_8</th>        <td>    1.8366</td> <td>    0.408</td> <td>    4.504</td> <td> 0.000</td> <td>    1.037</td> <td>    2.636</td>\n",
       "</tr>\n",
       "<tr>\n",
       "  <th>defensive_9</th>        <td>    1.1435</td> <td>    0.299</td> <td>    3.830</td> <td> 0.000</td> <td>    0.558</td> <td>    1.729</td>\n",
       "</tr>\n",
       "<tr>\n",
       "  <th>defensive__0</th>       <td>    0.6815</td> <td>    0.164</td> <td>    4.165</td> <td> 0.000</td> <td>    0.361</td> <td>    1.002</td>\n",
       "</tr>\n",
       "<tr>\n",
       "  <th>defensive_es</th>       <td>    1.6030</td> <td>    0.179</td> <td>    8.967</td> <td> 0.000</td> <td>    1.253</td> <td>    1.953</td>\n",
       "</tr>\n",
       "<tr>\n",
       "  <th>defensive_high</th>     <td>    1.5835</td> <td>    0.125</td> <td>   12.662</td> <td> 0.000</td> <td>    1.338</td> <td>    1.829</td>\n",
       "</tr>\n",
       "<tr>\n",
       "  <th>defensive_low</th>      <td>    1.9158</td> <td>    0.126</td> <td>   15.214</td> <td> 0.000</td> <td>    1.669</td> <td>    2.163</td>\n",
       "</tr>\n",
       "<tr>\n",
       "  <th>defensive_medium</th>   <td>    1.2612</td> <td>    0.123</td> <td>   10.218</td> <td> 0.000</td> <td>    1.019</td> <td>    1.503</td>\n",
       "</tr>\n",
       "<tr>\n",
       "  <th>defensive_o</th>        <td>    0.9724</td> <td>    0.152</td> <td>    6.387</td> <td> 0.000</td> <td>    0.674</td> <td>    1.271</td>\n",
       "</tr>\n",
       "<tr>\n",
       "  <th>defensive_ormal</th>    <td>    0.4858</td> <td>    0.110</td> <td>    4.409</td> <td> 0.000</td> <td>    0.270</td> <td>    0.702</td>\n",
       "</tr>\n",
       "<tr>\n",
       "  <th>preferred_right</th>    <td>   -0.0708</td> <td>    0.018</td> <td>   -3.836</td> <td> 0.000</td> <td>   -0.107</td> <td>   -0.035</td>\n",
       "</tr>\n",
       "</table>\n",
       "<table class=\"simpletable\">\n",
       "<tr>\n",
       "  <th>Omnibus:</th>       <td>4614.323</td> <th>  Durbin-Watson:     </th> <td>   0.322</td> \n",
       "</tr>\n",
       "<tr>\n",
       "  <th>Prob(Omnibus):</th>  <td> 0.000</td>  <th>  Jarque-Bera (JB):  </th> <td>10646.413</td>\n",
       "</tr>\n",
       "<tr>\n",
       "  <th>Skew:</th>           <td> 0.094</td>  <th>  Prob(JB):          </th> <td>    0.00</td> \n",
       "</tr>\n",
       "<tr>\n",
       "  <th>Kurtosis:</th>       <td> 4.172</td>  <th>  Cond. No.          </th> <td>1.01e+16</td> \n",
       "</tr>\n",
       "</table><br/><br/>Warnings:<br/>[1] Standard Errors assume that the covariance matrix of the errors is correctly specified.<br/>[2] The smallest eigenvalue is 1.65e-22. This might indicate that there are<br/>strong multicollinearity problems or that the design matrix is singular."
      ],
      "text/plain": [
       "<class 'statsmodels.iolib.summary.Summary'>\n",
       "\"\"\"\n",
       "                            OLS Regression Results                            \n",
       "==============================================================================\n",
       "Dep. Variable:         overall_rating   R-squared:                       0.786\n",
       "Model:                            OLS   Adj. R-squared:                  0.786\n",
       "Method:                 Least Squares   F-statistic:                 1.391e+04\n",
       "Date:                Sat, 23 Nov 2019   Prob (F-statistic):               0.00\n",
       "Time:                        18:07:37   Log-Likelihood:            -4.7076e+05\n",
       "No. Observations:              181265   AIC:                         9.416e+05\n",
       "Df Residuals:                  181216   BIC:                         9.421e+05\n",
       "Df Model:                          48                                         \n",
       "Covariance Type:            nonrobust                                         \n",
       "======================================================================================\n",
       "                         coef    std err          t      P>|t|      [0.025      0.975]\n",
       "--------------------------------------------------------------------------------------\n",
       "Intercept              4.8482      0.157     30.805      0.000       4.540       5.157\n",
       "crossing              -0.0099      0.001    -10.231      0.000      -0.012      -0.008\n",
       "finishing              0.0128      0.001     12.393      0.000       0.011       0.015\n",
       "heading_accuracy       0.0990      0.001    106.306      0.000       0.097       0.101\n",
       "short_passing          0.0760      0.002     47.465      0.000       0.073       0.079\n",
       "dribbling             -0.0100      0.001     -7.373      0.000      -0.013      -0.007\n",
       "curve                  0.0115      0.001     12.502      0.000       0.010       0.013\n",
       "free_kick_accuracy     0.0102      0.001     12.285      0.000       0.009       0.012\n",
       "long_passing           0.0168      0.001     15.372      0.000       0.015       0.019\n",
       "ball_control           0.2300      0.002    128.150      0.000       0.227       0.234\n",
       "acceleration           0.0408      0.002     25.759      0.000       0.038       0.044\n",
       "sprint_speed           0.0490      0.002     32.351      0.000       0.046       0.052\n",
       "agility               -0.0133      0.001    -11.651      0.000      -0.016      -0.011\n",
       "reactions              0.2762      0.001    226.250      0.000       0.274       0.279\n",
       "shot_power             0.0231      0.001     22.689      0.000       0.021       0.025\n",
       "jumping                0.0130      0.001     15.789      0.000       0.011       0.015\n",
       "stamina               -0.0157      0.001    -16.454      0.000      -0.018      -0.014\n",
       "strength               0.0592      0.001     62.059      0.000       0.057       0.061\n",
       "long_shots            -0.0208      0.001    -19.667      0.000      -0.023      -0.019\n",
       "aggression             0.0104      0.001     13.011      0.000       0.009       0.012\n",
       "interceptions          0.0178      0.001     20.795      0.000       0.016       0.019\n",
       "positioning           -0.0183      0.001    -19.950      0.000      -0.020      -0.017\n",
       "vision                 0.0085      0.001      8.447      0.000       0.007       0.010\n",
       "penalties              0.0155      0.001     17.813      0.000       0.014       0.017\n",
       "marking                0.0328      0.001     25.188      0.000       0.030       0.035\n",
       "standing_tackle        0.0132      0.002      8.761      0.000       0.010       0.016\n",
       "sliding_tackle        -0.0269      0.001    -20.990      0.000      -0.029      -0.024\n",
       "gk_diving              0.2072      0.002    122.382      0.000       0.204       0.210\n",
       "gk_handling            0.0571      0.002     25.589      0.000       0.053       0.062\n",
       "gk_kicking            -0.0288      0.001    -39.687      0.000      -0.030      -0.027\n",
       "gk_positioning         0.0776      0.002     34.944      0.000       0.073       0.082\n",
       "gk_reflexes            0.0466      0.002     21.387      0.000       0.042       0.051\n",
       "attacking_high         0.1342      0.020      6.760      0.000       0.095       0.173\n",
       "attacking_low          1.6030      0.038     42.214      0.000       1.529       1.677\n",
       "attacking_norm         0.4858      0.110      4.409      0.000       0.270       0.702\n",
       "attacking_y            1.6030      0.179      8.967      0.000       1.253       1.953\n",
       "defensive_1            1.9959      0.201      9.946      0.000       1.603       2.389\n",
       "defensive_2            0.7597      0.216      3.511      0.000       0.336       1.184\n",
       "defensive_3            1.2544      0.242      5.180      0.000       0.780       1.729\n",
       "defensive_6            1.5272      0.272      5.605      0.000       0.993       2.061\n",
       "defensive_7            1.9682      0.257      7.647      0.000       1.464       2.473\n",
       "defensive_8            1.8366      0.408      4.504      0.000       1.037       2.636\n",
       "defensive_9            1.1435      0.299      3.830      0.000       0.558       1.729\n",
       "defensive__0           0.6815      0.164      4.165      0.000       0.361       1.002\n",
       "defensive_es           1.6030      0.179      8.967      0.000       1.253       1.953\n",
       "defensive_high         1.5835      0.125     12.662      0.000       1.338       1.829\n",
       "defensive_low          1.9158      0.126     15.214      0.000       1.669       2.163\n",
       "defensive_medium       1.2612      0.123     10.218      0.000       1.019       1.503\n",
       "defensive_o            0.9724      0.152      6.387      0.000       0.674       1.271\n",
       "defensive_ormal        0.4858      0.110      4.409      0.000       0.270       0.702\n",
       "preferred_right       -0.0708      0.018     -3.836      0.000      -0.107      -0.035\n",
       "==============================================================================\n",
       "Omnibus:                     4614.323   Durbin-Watson:                   0.322\n",
       "Prob(Omnibus):                  0.000   Jarque-Bera (JB):            10646.413\n",
       "Skew:                           0.094   Prob(JB):                         0.00\n",
       "Kurtosis:                       4.172   Cond. No.                     1.01e+16\n",
       "==============================================================================\n",
       "\n",
       "Warnings:\n",
       "[1] Standard Errors assume that the covariance matrix of the errors is correctly specified.\n",
       "[2] The smallest eigenvalue is 1.65e-22. This might indicate that there are\n",
       "strong multicollinearity problems or that the design matrix is singular.\n",
       "\"\"\""
      ]
     },
     "execution_count": 41,
     "metadata": {},
     "output_type": "execute_result"
    }
   ],
   "source": [
    "# Building Linear model using statsmodel\n",
    "lm = smf.ols(formula='overall_rating ~ crossing + finishing + heading_accuracy + short_passing + dribbling + curve + free_kick_accuracy + long_passing + ball_control + acceleration + sprint_speed + agility + reactions + shot_power + jumping + stamina + strength + long_shots + aggression + interceptions + positioning + vision + penalties + marking + standing_tackle + sliding_tackle + gk_diving + gk_handling + gk_kicking + gk_positioning + gk_reflexes + attacking_high + attacking_low + attacking_norm + attacking_y + defensive_1 + defensive_2 + defensive_3 + defensive_6 + defensive_7 + defensive_8 + defensive_9 + defensive__0 + defensive_es + defensive_high + defensive_low + defensive_medium + defensive_o + defensive_ormal + preferred_right', data=numerical_df).fit()\n",
    "lm.summary()"
   ]
  },
  {
   "cell_type": "code",
   "execution_count": 42,
   "metadata": {},
   "outputs": [],
   "source": [
    "# Splitting the dataset into the Training set and Test set\n",
    "X = numerical_df.loc[:,['crossing', 'finishing', 'heading_accuracy', 'short_passing', 'dribbling', 'curve', 'free_kick_accuracy', 'long_passing', 'ball_control', 'acceleration', 'sprint_speed', 'agility', 'reactions', 'shot_power', 'jumping', 'stamina',  'strength', 'long_shots', 'aggression', 'interceptions', 'positioning',  'vision', 'penalties', 'marking', 'standing_tackle', 'sliding_tackle',  'gk_diving', 'gk_handling', 'gk_kicking', 'gk_positioning',  'gk_reflexes', 'attacking_high', 'attacking_low', 'attacking_norm', 'attacking_y',  'defensive_1', 'defensive_2', 'defensive_3', 'defensive_6', 'defensive_7', 'defensive_8',  'defensive_9', 'defensive__0', 'defensive_es',  'defensive_high', 'defensive_low', 'defensive_medium', 'defensive_o',  'defensive_ormal', 'preferred_right']].values\n",
    "y = numerical_df.iloc[:,0].values\n",
    "X_train, X_test, y_train, y_test = train_test_split(X, y, test_size = 0.2, random_state = 0)"
   ]
  },
  {
   "cell_type": "code",
   "execution_count": 43,
   "metadata": {},
   "outputs": [],
   "source": [
    "train = pd.DataFrame(data=X_train, columns=['crossing', 'finishing', 'heading_accuracy', 'short_passing', 'dribbling', 'curve', 'free_kick_accuracy', 'long_passing', 'ball_control', 'acceleration', 'sprint_speed', 'agility', 'reactions', 'shot_power', 'jumping', 'stamina',  'strength', 'long_shots', 'aggression', 'interceptions', 'positioning',  'vision', 'penalties', 'marking', 'standing_tackle', 'sliding_tackle',  'gk_diving', 'gk_handling', 'gk_kicking', 'gk_positioning',  'gk_reflexes', 'attacking_high', 'attacking_low', 'attacking_norm', 'attacking_y',  'defensive_1', 'defensive_2', 'defensive_3', 'defensive_6', 'defensive_7', 'defensive_8',  'defensive_9', 'defensive__0', 'defensive_es',  'defensive_high', 'defensive_low', 'defensive_medium', 'defensive_o',  'defensive_ormal', 'preferred_right'])\n",
    "train['overall_rating'] = y_train\n",
    "test = pd.DataFrame(data=X_test, columns=['crossing', 'finishing', 'heading_accuracy', 'short_passing', 'dribbling', 'curve', 'free_kick_accuracy', 'long_passing', 'ball_control', 'acceleration', 'sprint_speed', 'agility', 'reactions', 'shot_power', 'jumping', 'stamina',  'strength', 'long_shots', 'aggression', 'interceptions', 'positioning',  'vision', 'penalties', 'marking', 'standing_tackle', 'sliding_tackle',  'gk_diving', 'gk_handling', 'gk_kicking', 'gk_positioning',  'gk_reflexes', 'attacking_high', 'attacking_low', 'attacking_norm', 'attacking_y',  'defensive_1', 'defensive_2', 'defensive_3', 'defensive_6', 'defensive_7', 'defensive_8',  'defensive_9', 'defensive__0', 'defensive_es',  'defensive_high', 'defensive_low', 'defensive_medium', 'defensive_o',  'defensive_ormal', 'preferred_right'])\n",
    "test['overall_rating'] = y_test"
   ]
  },
  {
   "cell_type": "code",
   "execution_count": 44,
   "metadata": {},
   "outputs": [],
   "source": [
    "# Fitting Multiple Linear Regression to the Training set using scikit learn\n",
    "regressor = LinearRegression()\n",
    "model = regressor.fit(X_train, y_train)"
   ]
  },
  {
   "cell_type": "code",
   "execution_count": 45,
   "metadata": {},
   "outputs": [
    {
     "data": {
      "text/plain": [
       "array([-0.01091063,  0.01285373,  0.09856289,  0.07623318, -0.01172542,\n",
       "        0.01218465,  0.01004797,  0.01680315,  0.23190573,  0.03933977,\n",
       "        0.05029279, -0.01257994,  0.27576198,  0.02269149,  0.01335635,\n",
       "       -0.01591626,  0.05923225, -0.02052026,  0.01089458,  0.01813407,\n",
       "       -0.01812792,  0.00820181,  0.015285  ,  0.03176077,  0.01305704,\n",
       "       -0.02608262,  0.20815556,  0.05604794, -0.0282725 ,  0.07719866,\n",
       "        0.04677543,  0.13247778,  1.59387185,  0.60659307,  1.73982033,\n",
       "        2.01553358,  0.98122296,  1.45268028,  1.70314205,  1.91987449,\n",
       "        1.93350601,  1.10397726,  0.68591287,  1.73982033,  1.58753801,\n",
       "        1.91554861,  1.27151752,  0.98076852,  0.60659307, -0.05861808])"
      ]
     },
     "execution_count": 45,
     "metadata": {},
     "output_type": "execute_result"
    }
   ],
   "source": [
    "model.coef_"
   ]
  },
  {
   "cell_type": "code",
   "execution_count": 46,
   "metadata": {},
   "outputs": [
    {
     "data": {
      "text/plain": [
       "4.818588800496002"
      ]
     },
     "execution_count": 46,
     "metadata": {},
     "output_type": "execute_result"
    }
   ],
   "source": [
    "model.intercept_"
   ]
  },
  {
   "cell_type": "code",
   "execution_count": 47,
   "metadata": {},
   "outputs": [
    {
     "data": {
      "text/plain": [
       "0.7871841777907738"
      ]
     },
     "execution_count": 47,
     "metadata": {},
     "output_type": "execute_result"
    }
   ],
   "source": [
    "model.score(X_train, y_train)"
   ]
  },
  {
   "cell_type": "code",
   "execution_count": 48,
   "metadata": {},
   "outputs": [
    {
     "data": {
      "text/plain": [
       "0.7835682543556625"
      ]
     },
     "execution_count": 48,
     "metadata": {},
     "output_type": "execute_result"
    }
   ],
   "source": [
    "model.score(X_test, y_test)"
   ]
  },
  {
   "cell_type": "code",
   "execution_count": 49,
   "metadata": {},
   "outputs": [
    {
     "data": {
      "text/plain": [
       "<matplotlib.legend.Legend at 0x1f8ada44f98>"
      ]
     },
     "execution_count": 49,
     "metadata": {},
     "output_type": "execute_result"
    },
    {
     "data": {
      "image/png": "[encoded data removed]",
      "text/plain": [
       "<Figure size 432x288 with 1 Axes>"
      ]
     },
     "metadata": {
      "needs_background": "light"
     },
     "output_type": "display_data"
    }
   ],
   "source": [
    "plt.hist(y_train, label='y_train')\n",
    "plt.hist(model.predict(X_train), label='train_predict')\n",
    "plt.legend()"
   ]
  },
  {
   "cell_type": "markdown",
   "metadata": {},
   "source": [
    "### Evaluate Multiple Linear Model Performance"
   ]
  },
  {
   "cell_type": "code",
   "execution_count": 50,
   "metadata": {},
   "outputs": [],
   "source": [
    "y_train_pred = model.predict(X_train)"
   ]
  },
  {
   "cell_type": "code",
   "execution_count": 51,
   "metadata": {},
   "outputs": [],
   "source": [
    "y_test_pred = model.predict(X_test)"
   ]
  },
  {
   "cell_type": "markdown",
   "metadata": {},
   "source": [
    "The below calculation shows that RMSE value for both training and test data is similar and less too. It reveals that model is a good fit."
   ]
  },
  {
   "cell_type": "code",
   "execution_count": 52,
   "metadata": {},
   "outputs": [
    {
     "name": "stdout",
     "output_type": "stream",
     "text": [
      "RMSE Train 3.2431204635774393\n",
      "RMSE Test 3.2699317474260177\n"
     ]
    }
   ],
   "source": [
    "print('RMSE Train', sqrt(mean_squared_error(y_train_pred, y_train)))\n",
    "print('RMSE Test' , sqrt(mean_squared_error(y_test_pred, y_test)))"
   ]
  },
  {
   "cell_type": "code",
   "execution_count": 53,
   "metadata": {},
   "outputs": [
    {
     "data": {
      "text/plain": [
       "<matplotlib.collections.PathCollection at 0x1f8a5afb6a0>"
      ]
     },
     "execution_count": 53,
     "metadata": {},
     "output_type": "execute_result"
    },
    {
     "data": {
      "image/png": "[encoded data removed]",
      "text/plain": [
       "<Figure size 432x288 with 1 Axes>"
      ]
     },
     "metadata": {
      "needs_background": "light"
     },
     "output_type": "display_data"
    }
   ],
   "source": [
    "plt.scatter(y_train_pred, y_train)"
   ]
  },
  {
   "cell_type": "code",
   "execution_count": 54,
   "metadata": {},
   "outputs": [
    {
     "data": {
      "text/plain": [
       "<matplotlib.collections.PathCollection at 0x1f8a5c83908>"
      ]
     },
     "execution_count": 54,
     "metadata": {},
     "output_type": "execute_result"
    },
    {
     "data": {
      "image/png": "[encoded data removed]",
      "text/plain": [
       "<Figure size 432x288 with 1 Axes>"
      ]
     },
     "metadata": {
      "needs_background": "light"
     },
     "output_type": "display_data"
    }
   ],
   "source": [
    "plt.scatter(y_test_pred, y_test)"
   ]
  },
  {
   "cell_type": "markdown",
   "metadata": {},
   "source": [
    "The below two histograms reveal that error has normal distribution for both training target variable Vs training predicted target variable and test target variable Vs test predicted target variable."
   ]
  },
  {
   "cell_type": "code",
   "execution_count": 55,
   "metadata": {},
   "outputs": [
    {
     "data": {
      "text/plain": [
       "(array([2.0000e+00, 3.0000e+00, 1.5000e+01, 7.0000e+00, 1.2000e+01,\n",
       "        2.5000e+01, 5.4000e+01, 6.7000e+01, 8.0000e+01, 1.5200e+02,\n",
       "        2.8800e+02, 4.2600e+02, 8.5900e+02, 1.4770e+03, 2.3990e+03,\n",
       "        3.6520e+03, 5.3810e+03, 7.7910e+03, 1.0343e+04, 1.3346e+04,\n",
       "        1.6017e+04, 1.7687e+04, 1.7493e+04, 1.5253e+04, 1.1679e+04,\n",
       "        8.0100e+03, 4.9220e+03, 3.0910e+03, 1.9120e+03, 1.0900e+03,\n",
       "        5.6900e+02, 3.4200e+02, 2.2500e+02, 1.3200e+02, 5.8000e+01,\n",
       "        5.2000e+01, 2.6000e+01, 2.0000e+01, 2.1000e+01, 1.5000e+01,\n",
       "        3.0000e+00, 3.0000e+00, 3.0000e+00, 6.0000e+00, 0.0000e+00,\n",
       "        0.0000e+00, 2.0000e+00, 0.0000e+00, 0.0000e+00, 2.0000e+00]),\n",
       " array([-19.39247031, -18.48843788, -17.58440545, -16.68037303,\n",
       "        -15.7763406 , -14.87230817, -13.96827574, -13.06424331,\n",
       "        -12.16021089, -11.25617846, -10.35214603,  -9.4481136 ,\n",
       "         -8.54408118,  -7.64004875,  -6.73601632,  -5.83198389,\n",
       "         -4.92795147,  -4.02391904,  -3.11988661,  -2.21585418,\n",
       "         -1.31182175,  -0.40778933,   0.4962431 ,   1.40027553,\n",
       "          2.30430796,   3.20834038,   4.11237281,   5.01640524,\n",
       "          5.92043767,   6.82447009,   7.72850252,   8.63253495,\n",
       "          9.53656738,  10.44059981,  11.34463223,  12.24866466,\n",
       "         13.15269709,  14.05672952,  14.96076194,  15.86479437,\n",
       "         16.7688268 ,  17.67285923,  18.57689166,  19.48092408,\n",
       "         20.38495651,  21.28898894,  22.19302137,  23.09705379,\n",
       "         24.00108622,  24.90511865,  25.80915108]),\n",
       " <a list of 50 Patch objects>)"
      ]
     },
     "execution_count": 55,
     "metadata": {},
     "output_type": "execute_result"
    },
    {
     "data": {
      "image/png": "[encoded data removed]",
      "text/plain": [
       "<Figure size 432x288 with 1 Axes>"
      ]
     },
     "metadata": {
      "needs_background": "light"
     },
     "output_type": "display_data"
    }
   ],
   "source": [
    "plt.hist(y_train_pred - y_train, bins=50)"
   ]
  },
  {
   "cell_type": "code",
   "execution_count": 56,
   "metadata": {},
   "outputs": [
    {
     "data": {
      "text/plain": [
       "(array([1.000e+00, 4.000e+00, 4.000e+00, 0.000e+00, 2.000e+00, 9.000e+00,\n",
       "        1.700e+01, 1.100e+01, 2.900e+01, 3.400e+01, 4.900e+01, 8.200e+01,\n",
       "        1.360e+02, 2.500e+02, 3.990e+02, 5.820e+02, 7.680e+02, 1.140e+03,\n",
       "        1.581e+03, 1.982e+03, 2.557e+03, 3.101e+03, 3.602e+03, 3.711e+03,\n",
       "        3.889e+03, 3.346e+03, 2.769e+03, 2.090e+03, 1.396e+03, 9.670e+02,\n",
       "        6.270e+02, 4.010e+02, 2.690e+02, 1.560e+02, 9.500e+01, 6.000e+01,\n",
       "        3.500e+01, 3.500e+01, 1.900e+01, 1.100e+01, 1.100e+01, 9.000e+00,\n",
       "        4.000e+00, 3.000e+00, 3.000e+00, 1.000e+00, 1.000e+00, 0.000e+00,\n",
       "        3.000e+00, 2.000e+00]),\n",
       " array([-18.19755695, -17.41832578, -16.63909461, -15.85986344,\n",
       "        -15.08063227, -14.3014011 , -13.52216993, -12.74293876,\n",
       "        -11.96370759, -11.18447642, -10.40524525,  -9.62601408,\n",
       "         -8.84678291,  -8.06755174,  -7.28832057,  -6.5090894 ,\n",
       "         -5.72985823,  -4.95062706,  -4.17139589,  -3.39216472,\n",
       "         -2.61293355,  -1.83370238,  -1.05447121,  -0.27524004,\n",
       "          0.50399113,   1.2832223 ,   2.06245347,   2.84168464,\n",
       "          3.62091581,   4.40014698,   5.17937815,   5.95860932,\n",
       "          6.73784049,   7.51707166,   8.29630283,   9.075534  ,\n",
       "          9.85476517,  10.63399634,  11.41322751,  12.19245868,\n",
       "         12.97168985,  13.75092102,  14.53015219,  15.30938336,\n",
       "         16.08861453,  16.8678457 ,  17.64707687,  18.42630804,\n",
       "         19.20553921,  19.98477038,  20.76400155]),\n",
       " <a list of 50 Patch objects>)"
      ]
     },
     "execution_count": 56,
     "metadata": {},
     "output_type": "execute_result"
    },
    {
     "data": {
      "image/png": "[encoded data removed]",
      "text/plain": [
       "<Figure size 432x288 with 1 Axes>"
      ]
     },
     "metadata": {
      "needs_background": "light"
     },
     "output_type": "display_data"
    }
   ],
   "source": [
    "plt.hist(y_test_pred - y_test, bins=50)"
   ]
  },
  {
   "cell_type": "code",
   "execution_count": 57,
   "metadata": {},
   "outputs": [
    {
     "data": {
      "text/plain": [
       "<matplotlib.collections.PathCollection at 0x1f8a61382e8>"
      ]
     },
     "execution_count": 57,
     "metadata": {},
     "output_type": "execute_result"
    },
    {
     "data": {
      "image/png": "[encoded data removed]",
      "text/plain": [
       "<Figure size 432x288 with 1 Axes>"
      ]
     },
     "metadata": {
      "needs_background": "light"
     },
     "output_type": "display_data"
    }
   ],
   "source": [
    "plt.scatter(y_train, y_train - y_train_pred)"
   ]
  },
  {
   "cell_type": "code",
   "execution_count": 58,
   "metadata": {},
   "outputs": [
    {
     "data": {
      "text/plain": [
       "<matplotlib.collections.PathCollection at 0x1f8a62b1f60>"
      ]
     },
     "execution_count": 58,
     "metadata": {},
     "output_type": "execute_result"
    },
    {
     "data": {
      "image/png": "[encoded data removed]",
      "text/plain": [
       "<Figure size 432x288 with 1 Axes>"
      ]
     },
     "metadata": {
      "needs_background": "light"
     },
     "output_type": "display_data"
    }
   ],
   "source": [
    "plt.scatter(y_test, y_test - y_test_pred)"
   ]
  },
  {
   "cell_type": "code",
   "execution_count": 59,
   "metadata": {},
   "outputs": [],
   "source": [
    "# Fitting the Decision Tree Regression to the dataset\n",
    "decisionregressor = DecisionTreeRegressor(random_state = 0)\n",
    "decisionregressor.fit(X_train, y_train)\n",
    "y_decision_train_pred = decisionregressor.predict(X_train)\n",
    "y_decision_test_pred = decisionregressor.predict(X_test)"
   ]
  },
  {
   "cell_type": "markdown",
   "metadata": {},
   "source": [
    "#### Evaluate Decision Tree Regression Model Performance"
   ]
  },
  {
   "cell_type": "markdown",
   "metadata": {},
   "source": [
    "The below calculation shows that RMSE value for both Training and Test data is different. Test RMSE is more than Train RMSE which reveals the model as an overfitting one which is not recommended to be used."
   ]
  },
  {
   "cell_type": "code",
   "execution_count": 60,
   "metadata": {},
   "outputs": [
    {
     "name": "stdout",
     "output_type": "stream",
     "text": [
      "RMSE Train 0.20966679333229105\n",
      "RMSE Test 1.296993244748972\n"
     ]
    }
   ],
   "source": [
    "print('RMSE Train', sqrt(mean_squared_error(y_decision_train_pred, y_train)))\n",
    "print('RMSE Test' , sqrt(mean_squared_error(y_decision_test_pred, y_test)))"
   ]
  },
  {
   "cell_type": "code",
   "execution_count": 61,
   "metadata": {},
   "outputs": [
    {
     "data": {
      "text/plain": [
       "<matplotlib.collections.PathCollection at 0x1f8a6489f28>"
      ]
     },
     "execution_count": 61,
     "metadata": {},
     "output_type": "execute_result"
    },
    {
     "data": {
      "image/png": "[encoded data removed]",
      "text/plain": [
       "<Figure size 432x288 with 1 Axes>"
      ]
     },
     "metadata": {
      "needs_background": "light"
     },
     "output_type": "display_data"
    }
   ],
   "source": [
    "plt.scatter(y_decision_train_pred, y_train)"
   ]
  },
  {
   "cell_type": "code",
   "execution_count": 62,
   "metadata": {},
   "outputs": [
    {
     "data": {
      "text/plain": [
       "<matplotlib.collections.PathCollection at 0x1f8a661c748>"
      ]
     },
     "execution_count": 62,
     "metadata": {},
     "output_type": "execute_result"
    },
    {
     "data": {
      "image/png": "[encoded data removed]",
      "text/plain": [
       "<Figure size 432x288 with 1 Axes>"
      ]
     },
     "metadata": {
      "needs_background": "light"
     },
     "output_type": "display_data"
    }
   ],
   "source": [
    "plt.scatter(y_decision_test_pred, y_test)"
   ]
  },
  {
   "cell_type": "markdown",
   "metadata": {},
   "source": [
    "A group of predictors were selected to undergo data preprocessing tasks and fed into two different ML algorithms namely Multiple Linear Regression and DecisionTree Regression.\n",
    "#### Inference/Conclusion : Predictive analysis report indicates that Linear model regression works far better than DecisionTree regression. So, Players rating is to be predicted with multiple linear regression model."
   ]
  }
 ],
 "metadata": {
  "kernelspec": {
   "display_name": "Python 3",
   "language": "python",
   "name": "python3"
  },
  "language_info": {
   "codemirror_mode": {
    "name": "ipython",
    "version": 3
   },
   "file_extension": ".py",
   "mimetype": "text/x-python",
   "name": "python",
   "nbconvert_exporter": "python",
   "pygments_lexer": "ipython3",
   "version": "3.7.3"
  }
 },
 "nbformat": 4,
 "nbformat_minor": 2
}
